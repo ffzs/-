{
 "cells": [
  {
   "cell_type": "markdown",
   "metadata": {},
   "source": [
    "## 会员数据化运营辅助于客户关系管理（CRM），可以用来解决以下几方面问题：\n",
    "+ 会员的生命周期状态是什么；\n",
    "+ 会员的核心诉求是什么；\n",
    "+ 会员的转化习惯和路径是什么；\n",
    "+ 会员的价值如何；\n",
    "+ 如何扩大市场覆盖、获得更多的新会员；\n",
    "+ 如何更好地维系老会员；\n",
    "+ 应该在什么时间、采取何种措施、针对哪些会员做哪些运营活动；\n",
    "+ 在特定运营目标下，应该如何制定会员管理策略，包括行为管理、体验管理、增值服务、信息管理、营销管理、客户关怀等。"
   ]
  },
  {
   "cell_type": "markdown",
   "metadata": {},
   "source": [
    "### 会员新增指标：注册会员,激活会员，购买会员。\n",
    "\n",
    "+ 激活会员相对于注册会员有一个特定的激活动作，该动作往往决定了用户是否真的成为企业会员，常见的代表性动作包括：点击确认链接、手机验证、身份验证等。\n",
    "+ 购买会员是真正给企业带来利润的群体。购买会员数指有过购买行为的会员数量（企业也可以根据自身转化定义为其他要素，如付费会员数）。\n"
   ]
  },
  {
   "cell_type": "markdown",
   "metadata": {},
   "source": [
    "### 会员营销指标：\n",
    "\n",
    "1. 会员可营销的方式 手机号、邮箱、QQ、微信等具有可识别并可接触的信息点，具备这些信息中的任何一种便形成可营销会员。\n",
    "2. 会员营销费用一般包括营销媒介费用、优惠券费用和积分兑换费用三种\n",
    "    + 营销媒介费值短信、电子邮件等渠道推广产生的费用\n",
    "    + 优惠券费用，美团外卖优惠券等，满xx减xx，企业促销时申请的优惠券费用是会员营销费用的重要组成部分\n",
    "    + 积分兑换积分换购，积分折现等等\n",
    "\n",
    "3. 营销收入 会员营销收入是通过会员营销渠道和会员相关运营活动产生的收入，评估会员营销活动产生的收入时，直接通过特定有标记的渠道或促销码而成交的数据能清晰分辨出来。\n",
    "4. 用券会员/金额/订单比例 \n",
    "    +  用券会员比例：使用优惠券下单的会员占总下单会员的比例；\n",
    "    + 用券金额比例：使用优惠券下单的订单金额占总下单金额的比例；\n",
    "    + 用券订单比例：使用优惠券下单量占总下单量的比例。\n",
    "5. 营销费率 营销费率是会员营销费用占营销收入的比例。\n",
    "6. 每注册/订单/会员收入（获客收入）\n",
    "    + 每注册收入：每个注册用户带来多少收入；\n",
    "    + 每订单收入：每个订单带来多少收入；\n",
    "    + 每会员收入：每个会员带来多少收入。\n",
    "7. 每注册/订单/会员成本（获客支出）\n",
    "    + 每注册成本：每个获得一个注册用户需要多少成本；\n",
    "    + 每订单成本：每个获得一个订单需要多少成本；\n",
    "    + 每会员成本：每个获得一个会员需要多少成本。"
   ]
  },
  {
   "cell_type": "markdown",
   "metadata": {},
   "source": [
    "### 会员活跃指标：\n",
    "1. 会员活跃度：根据不同的行为定分数，对会员整个生命周期中的行为进行活跃度记入\n",
    "2. 活跃用户数：以时间为维度考察活跃用户的数量作为指标"
   ]
  },
  {
   "cell_type": "markdown",
   "metadata": {},
   "source": [
    "### 会员价制度指标：\n",
    "1. 价值分群：根据算法给会员打标签，通过梯度显示不同价值，不同梯度差别对待。\n",
    "2. 复购率：一定周期内购买2次或2次以上的会员比例。\n",
    "3. 消费频次：消费频次是将用户的消费频率，按照次数做统计，统计结果是在一定周期内消费了不同次数，该指标可以有效分析用户对于企业的消费黏性。\n",
    "4. 最近一次购买时间：该指标也可以作为会员消费价值黏性的评估因素。\n",
    "5. 最近一次购买金额：金额越大说明用户最近一次的消费能力越高"
   ]
  },
  {
   "cell_type": "markdown",
   "metadata": {},
   "source": [
    "### 会员终生价值指标\n",
    "1. 会员生命周期价值/订单量/平均订单价值：字面意思\n",
    "2. 会员生命周期转化率：完整生命周期内完成的订单和到达网站/企业/门店的次数比例，该指标衡量了用户是否具有较高的转化率。\n",
    "3. 会员生命周期剩余价值：预测指标，预测用户在生命周期内还能产生多少价值。可细分许多指标：\n",
    "    + 预期未来30天的会员转化率；\n",
    "    + 预期生命周期剩余订单价值；\n",
    "    + 预期7天内下单数量；\n",
    "    + 预计下1个订单的订单金额；\n",
    "    + 下一次购买的商品名称。"
   ]
  },
  {
   "cell_type": "markdown",
   "metadata": {},
   "source": [
    "### 会员流失指标\n",
    "1. 会员流失率：的会员数量与全部会员数量间的比例。\n",
    "2. 会员异动比：会员异动比 = 新增购买会员 / 流失会员。"
   ]
  },
  {
   "cell_type": "markdown",
   "metadata": {},
   "source": [
    "## 会员运营+数据驱动：\n",
    "\n",
    "### 拓客：\n",
    "+ 以信息化的方式建立基于会员的客户关系管理系统，促进所有会员数据的信息化；\n",
    "+ 通过特定方法将普通用户拓展企业会员，并提高新会员留存率；\n",
    "+ 基于用户历史消费记录，挖掘出用户潜在消费需求及消费热点；\n",
    "+ 基于历史数据，为会员营销活动提供策略指导和建议，促进精准营销活动的开展；\n",
    "+ 从会员营销结果中寻找异常订单或转化，作为黄牛或VIP客户识别的参考；\n",
    "+ 挖掘会员传播关系，找到口碑传播效应的关键节点。\n",
    "\n",
    "### 留客：\n",
    "+ 为预警事件设置阈值，自动触发应急处理机制；\n",
    "+ 分析会员行为，为会员提供个性化、精准化和差异化服务；\n",
    "+ 通过会员喜好分析，提高客户忠诚度、活跃度和黏性；\n",
    "+ 通过会员分析，预防会员流失并找到挽回已经流失会员的方法；\n",
    "+ 基于会员群体行为，更好的划分会员群体属性并挖掘群体性特征；\n",
    "+ 基于群体用户和内容相似度，发现有价值的会员互动方式；\n",
    "+ 基于会员生命周期的关怀管理，促进用户终生价值最大化。"
   ]
  },
  {
   "cell_type": "markdown",
   "metadata": {},
   "source": [
    "## 会员数据化运营模型\n",
    "### 会员细分模型：\n",
    "将会员划分到不同的类别中，基于不同群体做差别对待；会员细分是精准营销的基本前提。\n",
    "常用模型：基于属性、ABC分类法、聚类法\n",
    "#### 属性法\n",
    "会员细分基于现有会员属性，如地区、消费等级、性别、会员等级等\n",
    "#### ABC法（Activity Based Classification）\n",
    "ABC法则是帕累托二八法则衍生出来的一种法则。不同的是，二八法则强调的是抓住关键，ABC法则强调的是分清主次，并将管理对象划分为A、B、C三类。\n",
    "\n",
    "+ A类因素：发生累计频率为0%～80%，是主要影响因素。\n",
    "+ B类因素：发生累计频率为80%～90%，是次要影响因素。\n",
    "+ C类因素：发生累计频率为90%～100%，是一般影响因素\n",
    "\n",
    "#### 聚类法\n",
    "使用聚类法做会员分群是常用的非监督式方法，该方法无需任何先验经验，只需要指定要划分的群体数量即可\n",
    "\n",
    "### 会员价制度模型：\n",
    "RFM模型是根据会员最近一次购买时间R（Recency）、购买频率F（Frequency）、购买金额M（Monetary）计算得出RFM得分，通过这三个维度来评估客户的订单活跃价值，常用来做客户分群或价值区分。该模型常用于电子商务（即交易类）企业的会员分析。\n",
    "\n",
    "### 会员活跃度模型：\n",
    "RFE模型基于用户的普通行为（非转化或交易行为）产生，它跟RFM类似都是使用三个维度做价值评估。RFE模型是根据会员最近一次访问时间R（Recency）、访问频率F（Frequency）和页面互动度E（Engagements）计算得出的RFE得分。其中：\n",
    "+ 最近一次访问时间R（Recency）：会员最近一次访问或到达网站的时间。\n",
    "+ 访问频率F（Frequency）：用户在特定时间周期内访问或到达的频率。\n",
    "+ 页面互动度E（Engagements）：互动度的定义可以根据不同企业的交互情况而定，例如可以定义为页面浏览量、下载量、视频播放数量等。\n",
    "\n",
    "### 会员流失模型：\n",
    "做会员流失预测模型的关键因素之一是要定义好“流失”，即处在何种状态，具备哪些特征的会员属于流失。\n",
    "会员流失预测模型的实现方法属于分类算法，常用算法有逻辑回归、支持向量机、随机森林等。\n",
    "流失模型为预警模型需要为周期检验。\n",
    "\n",
    "### 会员特征分析\n",
    "+ 可以使用聚类等方法对已有用户信息进行整体分析，提取各个群体的显著特性，部门可根据特性制定策略。\n",
    "+ 通过决策树找到符合目标的关键变量，进而确定 会员特征\n",
    "+ 关联分析，找到不同项目间的关联提供给运营。\n",
    "+ 异常检测，通过非监督手段找到异常情况提供给运营进行核实\n",
    "\n",
    "### 营销响应预测模型\n",
    "营销响应预测模型针对营销活动展开，通常在做会员营销活动之前，通过营销响应预测模型分析找到可能响应活动的会员特征以及整体响应的用户比例、数量和可能带来的销售额。\n",
    "\n",
    "一般采用分类算法，常用逻辑回归、支持向量机、随机森林等。\n",
    "\n",
    "步骤：\n",
    "1. 随机选择一定量的会员样本（1000条以上）\n",
    "1. 针对选择的会员样本通过媒介和渠道发送营销活动信息\n",
    "1. 收集营销活动数据\n",
    "1. 通过上述步骤收集到所需样本集后，通过分类模型做营销响应预测\n",
    "\n",
    "营销响应预测模型的结果一般包括两个方向：\n",
    "\n",
    "+ 基于模型找到最可能产生购买转化行为的会员规则特征。\n",
    "+ 基于模型预测可能产生的订单转化数量、转化率，以及转化客户的客单价大体计算出此次发送会员能得到的营销收入。"
   ]
  },
  {
   "cell_type": "markdown",
   "metadata": {},
   "source": [
    "## 补充\n",
    "### 留存分析新用户\n",
    "用户留存指的是新会员/用户在经过一定时间之后，仍然具有访问、登录、使用或转化等特定属性和行为，留存用户占当时新用户的比例就是留存率。\n",
    "\n",
    "### 使用AARRR做APP用户生命周期分析\n",
    "AARRR是Acquisition、Activation、Retention、Revenue、Refer五个单词的缩写，分别对应用户生命周期中的5个环节：获取用户、提高活跃度、提高留存率、获取收入、自传播。\n",
    "\n",
    "### 借助动态数据流关注会员状态的轮转\n",
    "在做会员状态分析时，通常得到的是某个时间点状态。但是在不同时间周期下，会员的状态会发生改变。基于动态的时间周期，可以有效分析用户的状态轮转变化，可以从整个周期的视角发现会员状态的全貌。\n",
    "\n",
    "### 使用协同过滤算法为新会员分析推送个性化信息\n",
    "在针对新会员的运营过程中，由于新会员的数据量少，因此无法根据其历史数据针对性的提供个性化、精准化的运营活动。此时，除了可以采用TOP榜（例如TOP浏览商品、TOP销售商品等）的固定推送机制外，还可以基于相似会员的喜好来做推荐。\n"
   ]
  },
  {
   "cell_type": "code",
   "execution_count": 1,
   "metadata": {},
   "outputs": [],
   "source": [
    "import time\n",
    "import numpy as np\n",
    "import pandas as pd"
   ]
  },
  {
   "cell_type": "code",
   "execution_count": 2,
   "metadata": {},
   "outputs": [],
   "source": [
    "# 导入数据\n",
    "df_raw = pd.read_csv('https://raw.githubusercontent.com/ffzs/dataset/master/sales.csv', index_col='USERID')"
   ]
  },
  {
   "cell_type": "code",
   "execution_count": 3,
   "metadata": {
    "scrolled": true
   },
   "outputs": [
    {
     "data": {
      "text/html": [
       "<div>\n",
       "<style scoped>\n",
       "    .dataframe tbody tr th:only-of-type {\n",
       "        vertical-align: middle;\n",
       "    }\n",
       "\n",
       "    .dataframe tbody tr th {\n",
       "        vertical-align: top;\n",
       "    }\n",
       "\n",
       "    .dataframe thead th {\n",
       "        text-align: right;\n",
       "    }\n",
       "</style>\n",
       "<table border=\"1\" class=\"dataframe\">\n",
       "  <thead>\n",
       "    <tr style=\"text-align: right;\">\n",
       "      <th></th>\n",
       "      <th>ORDERDATE</th>\n",
       "      <th>ORDERID</th>\n",
       "      <th>AMOUNTINFO</th>\n",
       "    </tr>\n",
       "    <tr>\n",
       "      <th>USERID</th>\n",
       "      <th></th>\n",
       "      <th></th>\n",
       "      <th></th>\n",
       "    </tr>\n",
       "  </thead>\n",
       "  <tbody>\n",
       "    <tr>\n",
       "      <th>142074</th>\n",
       "      <td>2016-01-01</td>\n",
       "      <td>4196439032</td>\n",
       "      <td>9399.0</td>\n",
       "    </tr>\n",
       "    <tr>\n",
       "      <th>56927</th>\n",
       "      <td>2016-01-01</td>\n",
       "      <td>4198324983</td>\n",
       "      <td>8799.0</td>\n",
       "    </tr>\n",
       "    <tr>\n",
       "      <th>87058</th>\n",
       "      <td>2016-01-01</td>\n",
       "      <td>4191287379</td>\n",
       "      <td>6899.0</td>\n",
       "    </tr>\n",
       "    <tr>\n",
       "      <th>136104</th>\n",
       "      <td>2016-01-01</td>\n",
       "      <td>4198508313</td>\n",
       "      <td>5999.0</td>\n",
       "    </tr>\n",
       "    <tr>\n",
       "      <th>117831</th>\n",
       "      <td>2016-01-01</td>\n",
       "      <td>4202238313</td>\n",
       "      <td>5399.0</td>\n",
       "    </tr>\n",
       "  </tbody>\n",
       "</table>\n",
       "</div>"
      ],
      "text/plain": [
       "         ORDERDATE     ORDERID  AMOUNTINFO\n",
       "USERID                                    \n",
       "142074  2016-01-01  4196439032      9399.0\n",
       "56927   2016-01-01  4198324983      8799.0\n",
       "87058   2016-01-01  4191287379      6899.0\n",
       "136104  2016-01-01  4198508313      5999.0\n",
       "117831  2016-01-01  4202238313      5399.0"
      ]
     },
     "execution_count": 3,
     "metadata": {},
     "output_type": "execute_result"
    }
   ],
   "source": [
    "df_raw.head()"
   ]
  },
  {
   "cell_type": "markdown",
   "metadata": {},
   "source": [
    "以下是本数据集的4个特征变量，包括：\n",
    "\n",
    "+ USERID：用户ID，每个用户的ID唯一，由纯数字组成。\n",
    "+ ORDERDATE：订单日期，格式为YYYY-MM-DD，例如2016-01-01。\n",
    "+ ORDERID：订单ID，每个订单的ID唯一，由纯数字组成。\n",
    "+ AMOUNTINFO：订单金额，浮点型数据。"
   ]
  },
  {
   "cell_type": "code",
   "execution_count": 4,
   "metadata": {
    "scrolled": true
   },
   "outputs": [
    {
     "data": {
      "text/plain": [
       "ORDERDATE      object\n",
       "ORDERID         int64\n",
       "AMOUNTINFO    float64\n",
       "dtype: object"
      ]
     },
     "execution_count": 4,
     "metadata": {},
     "output_type": "execute_result"
    }
   ],
   "source": [
    "# 查看类型\n",
    "df_raw.dtypes"
   ]
  },
  {
   "cell_type": "code",
   "execution_count": 5,
   "metadata": {},
   "outputs": [],
   "source": [
    "# 将ORDERID列转换为字符类型\n",
    "df_raw['ORDERID'] = df_raw.ORDERID.astype('str')\n",
    "# ORDERDATE转换为时间格式\n",
    "df_raw['ORDERDATE'] = pd.to_datetime(df_raw.ORDERDATE)"
   ]
  },
  {
   "cell_type": "code",
   "execution_count": 6,
   "metadata": {
    "scrolled": false
   },
   "outputs": [
    {
     "data": {
      "text/html": [
       "<div>\n",
       "<style scoped>\n",
       "    .dataframe tbody tr th:only-of-type {\n",
       "        vertical-align: middle;\n",
       "    }\n",
       "\n",
       "    .dataframe tbody tr th {\n",
       "        vertical-align: top;\n",
       "    }\n",
       "\n",
       "    .dataframe thead th {\n",
       "        text-align: right;\n",
       "    }\n",
       "</style>\n",
       "<table border=\"1\" class=\"dataframe\">\n",
       "  <thead>\n",
       "    <tr style=\"text-align: right;\">\n",
       "      <th></th>\n",
       "      <th>ORDERDATE</th>\n",
       "      <th>ORDERID</th>\n",
       "      <th>AMOUNTINFO</th>\n",
       "    </tr>\n",
       "    <tr>\n",
       "      <th>USERID</th>\n",
       "      <th></th>\n",
       "      <th></th>\n",
       "      <th></th>\n",
       "    </tr>\n",
       "  </thead>\n",
       "  <tbody>\n",
       "    <tr>\n",
       "      <th>142074</th>\n",
       "      <td>2016-01-01</td>\n",
       "      <td>4196439032</td>\n",
       "      <td>9399.0</td>\n",
       "    </tr>\n",
       "    <tr>\n",
       "      <th>56927</th>\n",
       "      <td>2016-01-01</td>\n",
       "      <td>4198324983</td>\n",
       "      <td>8799.0</td>\n",
       "    </tr>\n",
       "    <tr>\n",
       "      <th>87058</th>\n",
       "      <td>2016-01-01</td>\n",
       "      <td>4191287379</td>\n",
       "      <td>6899.0</td>\n",
       "    </tr>\n",
       "    <tr>\n",
       "      <th>136104</th>\n",
       "      <td>2016-01-01</td>\n",
       "      <td>4198508313</td>\n",
       "      <td>5999.0</td>\n",
       "    </tr>\n",
       "    <tr>\n",
       "      <th>117831</th>\n",
       "      <td>2016-01-01</td>\n",
       "      <td>4202238313</td>\n",
       "      <td>5399.0</td>\n",
       "    </tr>\n",
       "  </tbody>\n",
       "</table>\n",
       "</div>"
      ],
      "text/plain": [
       "        ORDERDATE     ORDERID  AMOUNTINFO\n",
       "USERID                                   \n",
       "142074 2016-01-01  4196439032      9399.0\n",
       "56927  2016-01-01  4198324983      8799.0\n",
       "87058  2016-01-01  4191287379      6899.0\n",
       "136104 2016-01-01  4198508313      5999.0\n",
       "117831 2016-01-01  4202238313      5399.0"
      ]
     },
     "execution_count": 6,
     "metadata": {},
     "output_type": "execute_result"
    }
   ],
   "source": [
    "df_raw.head()"
   ]
  },
  {
   "cell_type": "code",
   "execution_count": 7,
   "metadata": {
    "scrolled": true
   },
   "outputs": [
    {
     "data": {
      "text/plain": [
       "ORDERDATE     2\n",
       "ORDERID       0\n",
       "AMOUNTINFO    8\n",
       "dtype: int64"
      ]
     },
     "execution_count": 7,
     "metadata": {},
     "output_type": "execute_result"
    }
   ],
   "source": [
    "# 查看缺失值\n",
    "df_raw.isna().sum()"
   ]
  },
  {
   "cell_type": "markdown",
   "metadata": {},
   "source": [
    "缺失值占比小，直接删除"
   ]
  },
  {
   "cell_type": "code",
   "execution_count": 8,
   "metadata": {},
   "outputs": [],
   "source": [
    "# 异常值处理\n",
    "df_raw = df_raw.dropna()  # 丢弃带有缺失值的行记录\n",
    "df_raw = df_raw[df_raw['AMOUNTINFO'] > 1]  # 丢弃订单金额<=1的记录"
   ]
  },
  {
   "cell_type": "markdown",
   "metadata": {},
   "source": [
    "接下来需要分别计算R、F、M三个原始变量的数值，主要使用的方式是数据框的groupby方法。"
   ]
  },
  {
   "cell_type": "code",
   "execution_count": 9,
   "metadata": {},
   "outputs": [],
   "source": [
    "# 计算RFM值\n",
    "recency_value = df_raw['ORDERDATE'].groupby(df_raw.index).max()  # 计算原始最近一次订单时间\n",
    "frequency_value = df_raw['ORDERDATE'].groupby(df_raw.index).count()  # 计算原始订单频率\n",
    "monetary_value = df_raw['AMOUNTINFO'].groupby(df_raw.index).sum()  # 计算原始订单总金额"
   ]
  },
  {
   "cell_type": "code",
   "execution_count": 10,
   "metadata": {},
   "outputs": [],
   "source": [
    "#### 分别计算R、F、M得分 #### \n",
    "# 指定一个时间节点，用于计算其他时间与该时间的距离\n",
    "deadline_date = pd.datetime(2017, 1,1) \n",
    "# 计算R间隔\n",
    "r_interval = (deadline_date - recency_value).dt.days\n",
    "# 计算R、F、M得分\n",
    "r_score = pd.cut(r_interval, 5, labels=[5, 4, 3, 2, 1]) \n",
    "f_score = pd.cut(frequency_value, 5, labels=[1, 2, 3, 4, 5])  \n",
    "m_score = pd.cut(monetary_value, 5, labels=[1, 2, 3, 4, 5])  "
   ]
  },
  {
   "cell_type": "code",
   "execution_count": 11,
   "metadata": {},
   "outputs": [
    {
     "data": {
      "text/html": [
       "<div>\n",
       "<style scoped>\n",
       "    .dataframe tbody tr th:only-of-type {\n",
       "        vertical-align: middle;\n",
       "    }\n",
       "\n",
       "    .dataframe tbody tr th {\n",
       "        vertical-align: top;\n",
       "    }\n",
       "\n",
       "    .dataframe thead th {\n",
       "        text-align: right;\n",
       "    }\n",
       "</style>\n",
       "<table border=\"1\" class=\"dataframe\">\n",
       "  <thead>\n",
       "    <tr style=\"text-align: right;\">\n",
       "      <th></th>\n",
       "      <th>r_score</th>\n",
       "      <th>f_score</th>\n",
       "      <th>m_score</th>\n",
       "    </tr>\n",
       "    <tr>\n",
       "      <th>USERID</th>\n",
       "      <th></th>\n",
       "      <th></th>\n",
       "      <th></th>\n",
       "    </tr>\n",
       "  </thead>\n",
       "  <tbody>\n",
       "    <tr>\n",
       "      <th>51220</th>\n",
       "      <td>4</td>\n",
       "      <td>1</td>\n",
       "      <td>1</td>\n",
       "    </tr>\n",
       "    <tr>\n",
       "      <th>51221</th>\n",
       "      <td>2</td>\n",
       "      <td>1</td>\n",
       "      <td>1</td>\n",
       "    </tr>\n",
       "    <tr>\n",
       "      <th>51224</th>\n",
       "      <td>3</td>\n",
       "      <td>1</td>\n",
       "      <td>1</td>\n",
       "    </tr>\n",
       "    <tr>\n",
       "      <th>51225</th>\n",
       "      <td>4</td>\n",
       "      <td>1</td>\n",
       "      <td>1</td>\n",
       "    </tr>\n",
       "    <tr>\n",
       "      <th>51226</th>\n",
       "      <td>1</td>\n",
       "      <td>1</td>\n",
       "      <td>1</td>\n",
       "    </tr>\n",
       "  </tbody>\n",
       "</table>\n",
       "</div>"
      ],
      "text/plain": [
       "        r_score  f_score  m_score\n",
       "USERID                           \n",
       "51220         4        1        1\n",
       "51221         2        1        1\n",
       "51224         3        1        1\n",
       "51225         4        1        1\n",
       "51226         1        1        1"
      ]
     },
     "execution_count": 11,
     "metadata": {},
     "output_type": "execute_result"
    }
   ],
   "source": [
    "# R、F、M数据合并\n",
    "rfm_list = [r_score, f_score, m_score]  # 将r、f、m三个维度组成列表\n",
    "rfm_cols = ['r_score', 'f_score', 'm_score']  # 设置r、f、m三个维度列名\n",
    "rfm_pd = pd.DataFrame(np.array(rfm_list).transpose(), dtype=np.int32, columns=rfm_cols, index=frequency_value.index)  # 建立r、f、m数据框\n",
    "rfm_pd.head()"
   ]
  },
  {
   "cell_type": "code",
   "execution_count": 12,
   "metadata": {},
   "outputs": [
    {
     "data": {
      "text/html": [
       "<div>\n",
       "<style scoped>\n",
       "    .dataframe tbody tr th:only-of-type {\n",
       "        vertical-align: middle;\n",
       "    }\n",
       "\n",
       "    .dataframe tbody tr th {\n",
       "        vertical-align: top;\n",
       "    }\n",
       "\n",
       "    .dataframe thead th {\n",
       "        text-align: right;\n",
       "    }\n",
       "</style>\n",
       "<table border=\"1\" class=\"dataframe\">\n",
       "  <thead>\n",
       "    <tr style=\"text-align: right;\">\n",
       "      <th></th>\n",
       "      <th>r_score</th>\n",
       "      <th>f_score</th>\n",
       "      <th>m_score</th>\n",
       "      <th>rfm_wscore</th>\n",
       "      <th>rfm_comb</th>\n",
       "    </tr>\n",
       "    <tr>\n",
       "      <th>USERID</th>\n",
       "      <th></th>\n",
       "      <th></th>\n",
       "      <th></th>\n",
       "      <th></th>\n",
       "      <th></th>\n",
       "    </tr>\n",
       "  </thead>\n",
       "  <tbody>\n",
       "    <tr>\n",
       "      <th>74270</th>\n",
       "      <td>5</td>\n",
       "      <td>5</td>\n",
       "      <td>5</td>\n",
       "      <td>5.0</td>\n",
       "      <td>555</td>\n",
       "    </tr>\n",
       "    <tr>\n",
       "      <th>53533</th>\n",
       "      <td>5</td>\n",
       "      <td>2</td>\n",
       "      <td>1</td>\n",
       "      <td>3.7</td>\n",
       "      <td>521</td>\n",
       "    </tr>\n",
       "    <tr>\n",
       "      <th>156305</th>\n",
       "      <td>5</td>\n",
       "      <td>2</td>\n",
       "      <td>1</td>\n",
       "      <td>3.7</td>\n",
       "      <td>521</td>\n",
       "    </tr>\n",
       "    <tr>\n",
       "      <th>73814</th>\n",
       "      <td>5</td>\n",
       "      <td>2</td>\n",
       "      <td>1</td>\n",
       "      <td>3.7</td>\n",
       "      <td>521</td>\n",
       "    </tr>\n",
       "    <tr>\n",
       "      <th>118431</th>\n",
       "      <td>5</td>\n",
       "      <td>2</td>\n",
       "      <td>1</td>\n",
       "      <td>3.7</td>\n",
       "      <td>521</td>\n",
       "    </tr>\n",
       "    <tr>\n",
       "      <th>118437</th>\n",
       "      <td>5</td>\n",
       "      <td>2</td>\n",
       "      <td>1</td>\n",
       "      <td>3.7</td>\n",
       "      <td>521</td>\n",
       "    </tr>\n",
       "  </tbody>\n",
       "</table>\n",
       "</div>"
      ],
      "text/plain": [
       "        r_score  f_score  m_score  rfm_wscore rfm_comb\n",
       "USERID                                                \n",
       "74270         5        5        5         5.0      555\n",
       "53533         5        2        1         3.7      521\n",
       "156305        5        2        1         3.7      521\n",
       "73814         5        2        1         3.7      521\n",
       "118431        5        2        1         3.7      521\n",
       "118437        5        2        1         3.7      521"
      ]
     },
     "execution_count": 12,
     "metadata": {},
     "output_type": "execute_result"
    }
   ],
   "source": [
    "# 计算RFM总得分\n",
    "# 方法一：加权得分\n",
    "rfm_pd['rfm_wscore'] = rfm_pd['r_score'] * 0.6 + rfm_pd['f_score'] * 0.3 + rfm_pd['m_score'] * 0.1\n",
    "# 方法二：RFM组合\n",
    "rfm_pd_tmp = rfm_pd.copy()\n",
    "rfm_pd_tmp = rfm_pd_tmp.applymap(lambda x : str(x))\n",
    "rfm_pd['rfm_comb'] = rfm_pd_tmp.iloc[:,0] + rfm_pd_tmp.iloc[:,1] + rfm_pd_tmp.iloc[:,2]\n",
    "rfm_pd.sort_values('rfm_comb',ascending=False)[:6]"
   ]
  },
  {
   "cell_type": "markdown",
   "metadata": {},
   "source": [
    "在方法一中，直接取出数据框的三列（R、F、M）通过乘以特定权重值得到总得分。由于业务方更关注活跃度，认为访问的邻近度最重要，因此R的权重比较高，设置为0.6；其次是访问频率F设置为0.3；订单金额M则设置为0.1。然后基于不同的列直接做加权相加，而无需通过循环读出各个元素再做计算。"
   ]
  },
  {
   "cell_type": "code",
   "execution_count": 17,
   "metadata": {
    "scrolled": true
   },
   "outputs": [
    {
     "data": {
      "text/plain": [
       "<matplotlib.axes._subplots.AxesSubplot at 0x145c1a5cb70>"
      ]
     },
     "execution_count": 17,
     "metadata": {},
     "output_type": "execute_result"
    },
    {
     "data": {
      "image/png": "[encoded data removed]",
      "text/plain": [
       "<Figure size 432x288 with 1 Axes>"
      ]
     },
     "metadata": {},
     "output_type": "display_data"
    }
   ],
   "source": [
    "%matplotlib inline\n",
    "rfm_pd.rfm_wscore.hist()"
   ]
  },
  {
   "cell_type": "markdown",
   "metadata": {},
   "source": []
  }
 ],
 "metadata": {
  "kernelspec": {
   "display_name": "Python 3",
   "language": "python",
   "name": "python3"
  },
  "language_info": {
   "codemirror_mode": {
    "name": "ipython",
    "version": 3
   },
   "file_extension": ".py",
   "mimetype": "text/x-python",
   "name": "python",
   "nbconvert_exporter": "python",
   "pygments_lexer": "ipython3",
   "version": "3.6.5"
  },
  "toc": {
   "base_numbering": 1,
   "nav_menu": {},
   "number_sections": true,
   "sideBar": true,
   "skip_h1_title": false,
   "title_cell": "Table of Contents",
   "title_sidebar": "Contents",
   "toc_cell": false,
   "toc_position": {},
   "toc_section_display": true,
   "toc_window_display": false
  }
 },
 "nbformat": 4,
 "nbformat_minor": 2
}
