{
 "cells": [
  {
   "cell_type": "markdown",
   "metadata": {},
   "source": [
    "关联规则学习是一种基于规则的机器学习方法，用于发现大型数据库中变量之间的有趣关系。它旨在使用一些有趣的度量来识别在数据库中发现的强规则。这种基于规则的方法在分析更多数据时也会生成新规则。假设数据集足够大，最终目标是帮助机器模拟人类大脑的特征提取和新未分类数据的抽象关联能力。\n",
    "\n",
    "基于强有力规则的概念，Rakesh Agrawal，TomaszImieliński和Arun Swami介绍了关联规则，用于发现超市中销售点（POS）系统记录的大规模交易数据中产品之间的规律性。例如，在超市的销售数据中发现，如果顾客一起购买洋葱和土豆，他们也可能会购买汉堡肉。这些信息可以用作关于营销活动的决策的基础，例如促销定价或产品放置。\n",
    "\n",
    "除了市场购物篮分析的上述示例之外，目前在许多应用领域中使用关联规则，包括Web使用挖掘，入侵检测，连续生产和生物信息学。与序列挖掘相反，关联规则学习通常不考虑事务内或跨事务的项目顺序。"
   ]
  },
  {
   "cell_type": "markdown",
   "metadata": {},
   "source": [
    "常用的关联算法包括：\n",
    "\n",
    "Apriori、FP-Growth、PrefixSpan、SPADE、AprioriAll、Apriori-Some等。"
   ]
  },
  {
   "cell_type": "markdown",
   "metadata": {},
   "source": [
    "频繁规律与有效规则：\n",
    "\n",
    "+ 频繁规则指的是关联结果中支持度和置信度都比较高的规则\n",
    "+ 有效规则指关联规则真正能促进规则中的前后项提升\n",
    "\n",
    "假如，数据集有1000条事务数据用来显示购买苹果和香蕉的订单记录，其中有600个客户的订单记录中包含了苹果，有800个客户的订单记录中包含了香蕉，而有400个客户同时购买了苹果和香蕉。假如我们产生了一条关联规则，用来表示购买了苹果的客户中还有很多人购买香蕉，那么该规则可以表示为：苹果→香蕉。\n",
    "支持度：support = 400/1000= 40%\n",
    "置信度：confidence = 400/600=67%\n",
    "如果只是看支持度和置信度，这个规则似乎非常显著的说明了苹果和香蕉之间的频繁关系，买了苹果的客户中有67%的人也会一起购买香蕉。但是，如果忽略购买苹果的事实，只购买香蕉的客户比例会高达是80%（800/1000）！这显示了购买苹果这种条件不会对购买香蕉产生积极的促进作用，反而会阻碍其销售，苹果和香蕉之间是一种负相关的关系。因此，只看支持度和置信度将无法完整体现规则的有效性，这里我们使用提升度来有效应对该问题。\n",
    "\n",
    "提升度（Lift）指的是应用关联规则和不应用产生结果的比例。在本示例中，Lift=(400)/(800)=0.5（有关联规则的前提下只有400个客户会购买香蕉，没有关联规则的前提下会有800个购买香蕉）。当提升度为1时，说明应用关联规则和不应用关联规则产生相同的结果；当提升度大于1时，说明应用关联规则比不应用关联规则能产生更好的结果；当提升度小于1时，关联规则具有负相关的作用，该规则是无效规则。\n",
    "\n",
    "做关联规则评估时，需要综合考虑支持度、置信度和提升度三个指标，支持度和置信度的值越大越好。\n",
    "\n",
    "提升度低的负相关关联其实也是一种关联模式，也是可以通过避免的方式利用这种关联：不将互斥商品放在一个组合中，不将互斥广告投放整合投放，不将互斥关键字提供个客户，不将互斥信息流展现给客户。"
   ]
  },
  {
   "cell_type": "markdown",
   "metadata": {},
   "source": [
    "运营分析中关联分析的使用：\n",
    "\n",
    "+ 网站页面关联分析：帮助我们找到用户在不同页面之间的频繁访问关系，以分析用户特定的页面浏览方式，这样可以帮助了解不同页面之间的分流和引流情况，可用于不同页面间的推荐已达到提高转化率。\n",
    "+ 广告流量关联分析：针对站外广告投放渠道用户浏览或点击的行为分析，该分析主要用于了解用户的浏览和点击广告的规则。这种站外广告曝光和点击的关联分析可以为广告客户的精准投放提供参考。\n",
    "+ 用户关键字搜索：通过分析用户在站内的搜索关键字了解用户真实需求的。通过对用户搜索的关键字的关联分析，可以得到类似于搜索了iPhone又搜索了三星，这种关联可以用于搜索推荐、搜索关联等场景，有助于改善搜索体验，提高客户的目标转化率。\n",
    "+ 不同场景发生，这种模式可以广泛用于分析运营中关注的要素，例如用户浏览商品和购买商品的关联，关注产品价格和购买产品价格的关联，加入购物车与购买的关联。这种关联可以找到用户在一个事件中不同行为之间的关联，可以用来挖掘用户的真实需求，有针对性的对当前用户进行个性化推荐，同时也对定价策略有参考价值。\n",
    "+ 相同场景发生，用户在同一个页面中点击不同功能、选择不同的应用。这种关联可以用于分析用户使用功能的先后顺序，有利于做产品优化和用户体验提升；对于不同产品功能组合、开发和升级有了更加明确地参考方向，便于针对永辉习惯性操作模式做功能迭代；同时针对用户频繁查看和点击的内容，可以采用打包、组合、轮转等策略，帮助客户查找，同时增加内容曝光度和用户体验。\n"
   ]
  },
  {
   "cell_type": "markdown",
   "metadata": {},
   "source": [
    "除了打包组合的思维方式之外，还可以这样考虑应用：既然用户具有较强的发生关联事件关系（例如购买、查看等）的可能性，那么可以基于用户的这种习惯，将前后项内容故意分离开，利用用户主动查找的时机来产生更多价值或完成特定转化目标。\n",
    "例如：用户经常一起购买啤酒和尿布，我们可以分别将啤酒和尿布陈列在展柜的两端（或者隔开一段距离），然后在用户购买啤酒又去购买尿布的途中，也许会发现别的商品进而产生兴趣，从而实现更多的销售。但是需要注意这种关联需求的效用能否支撑这种搜索过程，则刚需最好，强有效规则其次，不可过多降低用户体验。"
   ]
  },
  {
   "cell_type": "markdown",
   "metadata": {},
   "source": [
    "序列模式的关联规则：\n",
    "\n",
    "序列模式相较于普通关联模式最大的区别是不同的事件之间具有明显的时间区隔，以及先后的序列发生关系，能得到类似于“完成某个事件之后会在特定的时间周期内完成其他事件”的结论，例如购买了冰箱的客户会在3个月内购买洗衣机的结论。这是一种预测性分析的模式，能够将事件发生的时间和对象提取出来，使用与基于时间序列的数据化运营需求。\n",
    "应用场景：\n",
    "+ 基于用户上一次购买时间和商品信息，推断用户下一次购物时间和购买的商品，如果用户脱离周期过久需要实施挽留措施\n",
    "+ 基于用户上一次浏览页面的时间和页面信息，推断用户下一次可能浏览的页面\n",
    "+ 通过上衣此关键字的搜索预测下一次最可能搜索的关键字\n",
    "\n",
    "能实现序列模式的关联算法包括：\n",
    "+ AprioriAll：基于哈希树的序列关联算法，它与Apriori算法的执行过程是一样的，不同点在于候选集的产生，需要区分最后两个元素的前后顺序。\n",
    "+ AprioriSome：该算法是对AprioriAll算法的改进。\n",
    "+ CARMA（Continuous Association Rule Mining Algorithm）:CARMA是一种比较新的关联规则算法，能够处理在线连续交易流数据。\n",
    "+ GSP（Generalized Sequential Patterns）：基于水平存储结构和哈希树遍历操作的序列关联算法，它具有类似于Apriori算法的实现步骤，主要区别在于产生候选序列模式。\n",
    "+ SPADE（Sequential PAttern Discovery using Equivalence classes）：基于垂直存储结构和格理论连接操作的序列关联算法，它是一种改进的GSP算法。\n",
    "+ FreeSpan：频繁模式投影的序列关联算法，利用频繁项递归地将序列数据库投影到更小的投影数据库集中，在每个投影数据库中生成子序列片断，是一种分治思想的算法。\n",
    "+ PrefixSpan（Prefix-Projected Pattern Growth）：基于前缀树的序列关联算法，从Free-Span中推导演化而来"
   ]
  },
  {
   "cell_type": "code",
   "execution_count": 7,
   "metadata": {
    "scrolled": true
   },
   "outputs": [],
   "source": [
    "import apriori\n",
    "import pandas as pd\n",
    "from graphviz import Digraph"
   ]
  },
  {
   "cell_type": "code",
   "execution_count": 76,
   "metadata": {},
   "outputs": [
    {
     "name": "stdout",
     "output_type": "stream",
     "text": [
      "data record: 4 \n",
      "association rules count: 3\n"
     ]
    },
    {
     "data": {
      "text/html": [
       "<div>\n",
       "<style scoped>\n",
       "    .dataframe tbody tr th:only-of-type {\n",
       "        vertical-align: middle;\n",
       "    }\n",
       "\n",
       "    .dataframe tbody tr th {\n",
       "        vertical-align: top;\n",
       "    }\n",
       "\n",
       "    .dataframe thead th {\n",
       "        text-align: right;\n",
       "    }\n",
       "</style>\n",
       "<table border=\"1\" class=\"dataframe\">\n",
       "  <thead>\n",
       "    <tr style=\"text-align: right;\">\n",
       "      <th></th>\n",
       "      <th>item1</th>\n",
       "      <th>itme2</th>\n",
       "      <th>instance</th>\n",
       "      <th>support</th>\n",
       "      <th>confidence</th>\n",
       "      <th>lift</th>\n",
       "    </tr>\n",
       "  </thead>\n",
       "  <tbody>\n",
       "    <tr>\n",
       "      <th>0</th>\n",
       "      <td>(5)</td>\n",
       "      <td>(2)</td>\n",
       "      <td>3</td>\n",
       "      <td>0.75</td>\n",
       "      <td>1.0</td>\n",
       "      <td>1.3333</td>\n",
       "    </tr>\n",
       "    <tr>\n",
       "      <th>1</th>\n",
       "      <td>(2)</td>\n",
       "      <td>(5)</td>\n",
       "      <td>3</td>\n",
       "      <td>0.75</td>\n",
       "      <td>1.0</td>\n",
       "      <td>1.3333</td>\n",
       "    </tr>\n",
       "    <tr>\n",
       "      <th>2</th>\n",
       "      <td>(1)</td>\n",
       "      <td>(3)</td>\n",
       "      <td>2</td>\n",
       "      <td>0.50</td>\n",
       "      <td>1.0</td>\n",
       "      <td>1.3333</td>\n",
       "    </tr>\n",
       "  </tbody>\n",
       "</table>\n",
       "</div>"
      ],
      "text/plain": [
       "  item1 itme2  instance  support  confidence    lift\n",
       "0   (5)   (2)         3     0.75         1.0  1.3333\n",
       "1   (2)   (5)         3     0.75         1.0  1.3333\n",
       "2   (1)   (3)         2     0.50         1.0  1.3333"
      ]
     },
     "execution_count": 76,
     "metadata": {},
     "output_type": "execute_result"
    }
   ],
   "source": [
    "# 设置最小支持度阈值\n",
    "minS = 0.5\n",
    "# 设置最小置信度阈值\n",
    "minC = 0.7\n",
    "\n",
    "data = apriori.loadDataSet()\n",
    "\n",
    "# 计算符合最小支持度的规则\n",
    "L, suppdata = apriori.apriori(data, minSupport=minS)\n",
    "\n",
    "# 计算满足最小置信度规则\n",
    "rules = apriori.generateRules(data, L, suppdata, minConf=minC)\n",
    "\n",
    "### 关联结果评估###\n",
    "model_summary = 'data record: {1} \\nassociation rules count: {0}'  # 展示数据集记录数和满足阈值定义的规则数量\n",
    "print (model_summary.format(len(rules), len(data)))  # 使用str.format做格式化输出\n",
    "df =  pd.DataFrame(rules,  columns=['item1',  'itme2',  'instance',  'support',\n",
    "    'confidence', 'lift'])  # 创建频繁规则数据框\n",
    "df_lift = df[df['lift'] > 1.0]  # 只选择提升度>1的规则\n",
    "df_lift.sort_values('instance', ascending=False)"
   ]
  },
  {
   "cell_type": "code",
   "execution_count": 77,
   "metadata": {},
   "outputs": [
    {
     "data": {
      "text/plain": [
       "'apriori.pdf'"
      ]
     },
     "execution_count": 77,
     "metadata": {},
     "output_type": "execute_result"
    }
   ],
   "source": [
    "# 关联结果图形展示\n",
    "dot = Digraph()  # 创建有向图\n",
    "graph_data = df_lift[['item1', 'itme2', 'instance']]   # 切分画图用的前项、后项和实例数数据\n",
    "for each_data in graph_data.values:  # 循环读出每条规则\n",
    "    node1, node2, weight = each_data  # 分割每条数据画图用的前项、后项和实例数\n",
    "    node1 = str(node1).strip('frozenset({})')  # 转化为字符串\n",
    "    node2 = str(node2).strip('frozenset({})')  # 转化为字符串\n",
    "    label = '%s' % weight  # 创建一个标签用于展示实例数\n",
    "    dot.node(node1, node1, shape='record')  # 增加节点（规则中的前项）\n",
    "    dot.edge(node1, node2, label=label, constraint='true')  # 增加有向边\n",
    "dot.render('apriori', view=True)  # 保存规则为pdf文件"
   ]
  },
  {
   "cell_type": "code",
   "execution_count": 78,
   "metadata": {},
   "outputs": [
    {
     "data": {
      "text/plain": [
       "{(5,): ((1, 2), 1.0),\n",
       " (1, 5): ((2,), 1.0),\n",
       " (2, 5): ((1,), 1.0),\n",
       " (4,): ((2,), 1.0)}"
      ]
     },
     "execution_count": 78,
     "metadata": {},
     "output_type": "execute_result"
    }
   ],
   "source": [
    "import pyfpgrowth\n",
    "\n",
    "data = [[1, 2, 5],\n",
    "        [2, 4],\n",
    "        [2, 3],\n",
    "        [1, 2, 4],\n",
    "        [1, 3],\n",
    "        [2, 3],\n",
    "        [1, 3],\n",
    "        [1, 2, 3, 5],\n",
    "        [1, 2, 3]]\n",
    "\n",
    "minS = 0.2\n",
    "minC = 0.7\n",
    "\n",
    "support = minS*len(data)\n",
    "patterns = pyfpgrowth.find_frequent_patterns(data, support)\n",
    "rules = pyfpgrowth.generate_association_rules(patterns, minC)\n",
    "\n",
    "rules"
   ]
  },
  {
   "cell_type": "code",
   "execution_count": null,
   "metadata": {},
   "outputs": [],
   "source": []
  }
 ],
 "metadata": {
  "kernelspec": {
   "display_name": "Python 3",
   "language": "python",
   "name": "python3"
  },
  "language_info": {
   "codemirror_mode": {
    "name": "ipython",
    "version": 3
   },
   "file_extension": ".py",
   "mimetype": "text/x-python",
   "name": "python",
   "nbconvert_exporter": "python",
   "pygments_lexer": "ipython3",
   "version": "3.6.5"
  },
  "toc": {
   "base_numbering": 1,
   "nav_menu": {},
   "number_sections": true,
   "sideBar": true,
   "skip_h1_title": false,
   "title_cell": "Table of Contents",
   "title_sidebar": "Contents",
   "toc_cell": false,
   "toc_position": {},
   "toc_section_display": true,
   "toc_window_display": false
  }
 },
 "nbformat": 4,
 "nbformat_minor": 2
}
