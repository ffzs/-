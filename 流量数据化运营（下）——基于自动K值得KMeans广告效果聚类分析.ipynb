{
 "cells": [
  {
   "cell_type": "markdown",
   "metadata": {},
   "source": [
    "## 案例背景\n",
    "某企业由于投放的广告渠道比较多，需要对其做广告效果分析以实现有针对性的广告效果测量和优化工作。跟以应用为目的的案例不同的是，由于本案例是一个分析型案例，该过程的输出其实是不固定的，因此需要跟业务运营方具体沟通需求。\n",
    "以下是在开展研究之前的基本预设条件：\n",
    "+ 广告渠道的范畴是什么？具体包括哪些渠道？——所有站外标记的广告类渠道（以ad_开头）。\n",
    "+ 数据集时间选择哪个时间段？——最近90天的数据。\n",
    "+ 数据集选择哪些维度和指标？——渠道代号、日均UV、平均注册率、平均搜索量、访问深度、平均停留时间、订单转化率、投放总时间、素材类型、广告类型、合作方式、广告尺寸、广告卖点。\n",
    "+ 专题分析要解决什么问题？——将广告分类并找出其重点特征，为接下来的业务讨论和数据分析提供支持。"
   ]
  },
  {
   "cell_type": "markdown",
   "metadata": {},
   "source": [
    "## 案例数据\n",
    "以下是本数据集的13个字段的详细说明：\n",
    "+ 渠道代号：业务方统一命名规划的唯一渠道标志。\n",
    "+ 日均UV：每天的平均独立访客，从一个渠道中带来的一个访客即使一天中到达多次都统计为1次。\n",
    "+ 平均注册率：日均注册的用户数量/平均每天的访问量。\n",
    "+ 平均搜索量：平均每个访问的搜索次数。\n",
    "+ 访问深度：总页面浏览量/平均每天的访问量。\n",
    "+ 平均停留时间：总停留时间/平均每天的访问量。\n",
    "+ 订单转化率：总订单数量/平均每天的访问量。\n",
    "+ 投放总时间：每个广告媒介在站外投放的天数。\n",
    "+ 素材类型：广告素材类型，包括jpg、gif、swf、sp。\n",
    "+ 广告类型：广告投放类型，包括banner、tips、横幅、通栏、暂停以及不确定（不知道到底是何种形式）。\n",
    "+ 合作方式：广告合作方式，包括roi、cpc、cpm和cpd。\n",
    "+ 广告尺寸：每个广告投放的尺寸大小，包括140*40、308*388、450*300、600*90、480*360、960*126、900*120、390*270。\n",
    "+ 广告卖点：广告素材上主要的卖点诉求信息，包括打折、满减、满赠、秒杀、直降、满返。"
   ]
  },
  {
   "cell_type": "code",
   "execution_count": 1,
   "metadata": {},
   "outputs": [],
   "source": [
    "import numpy as np\n",
    "import pandas as pd\n",
    "from sklearn.feature_extraction import DictVectorizer\n",
    "from sklearn.preprocessing import MinMaxScaler\n",
    "from sklearn.cluster import KMeans\n",
    "from sklearn import metrics   # 导入sklearn效果评估模块\n",
    "import matplotlib.pyplot as plt\n",
    "%matplotlib inline"
   ]
  },
  {
   "cell_type": "code",
   "execution_count": 2,
   "metadata": {},
   "outputs": [],
   "source": [
    "# 载入数据，空格为间隔\n",
    "df = pd.read_csv('https://raw.githubusercontent.com/ffzs/dataset/master/ad_performance.txt', delimiter='\\t')"
   ]
  },
  {
   "cell_type": "code",
   "execution_count": 3,
   "metadata": {},
   "outputs": [
    {
     "data": {
      "text/html": [
       "<div>\n",
       "<style scoped>\n",
       "    .dataframe tbody tr th:only-of-type {\n",
       "        vertical-align: middle;\n",
       "    }\n",
       "\n",
       "    .dataframe tbody tr th {\n",
       "        vertical-align: top;\n",
       "    }\n",
       "\n",
       "    .dataframe thead th {\n",
       "        text-align: right;\n",
       "    }\n",
       "</style>\n",
       "<table border=\"1\" class=\"dataframe\">\n",
       "  <thead>\n",
       "    <tr style=\"text-align: right;\">\n",
       "      <th></th>\n",
       "      <th>886</th>\n",
       "      <th>887</th>\n",
       "      <th>888</th>\n",
       "    </tr>\n",
       "  </thead>\n",
       "  <tbody>\n",
       "    <tr>\n",
       "      <th>渠道代号</th>\n",
       "      <td>A40</td>\n",
       "      <td>A41</td>\n",
       "      <td>A826</td>\n",
       "    </tr>\n",
       "    <tr>\n",
       "      <th>日均UV</th>\n",
       "      <td>310.53</td>\n",
       "      <td>1370.38</td>\n",
       "      <td>0.86</td>\n",
       "    </tr>\n",
       "    <tr>\n",
       "      <th>平均注册率</th>\n",
       "      <td>0.0002</td>\n",
       "      <td>0.0001</td>\n",
       "      <td>0</td>\n",
       "    </tr>\n",
       "    <tr>\n",
       "      <th>平均搜索量</th>\n",
       "      <td>0.0028</td>\n",
       "      <td>0.0016</td>\n",
       "      <td>0</td>\n",
       "    </tr>\n",
       "    <tr>\n",
       "      <th>访问深度</th>\n",
       "      <td>1.1546</td>\n",
       "      <td>1.3939</td>\n",
       "      <td>52.6591</td>\n",
       "    </tr>\n",
       "    <tr>\n",
       "      <th>平均停留时间</th>\n",
       "      <td>543.8</td>\n",
       "      <td>613.32</td>\n",
       "      <td>1932.61</td>\n",
       "    </tr>\n",
       "    <tr>\n",
       "      <th>订单转化率</th>\n",
       "      <td>0.0001</td>\n",
       "      <td>0.0001</td>\n",
       "      <td>0</td>\n",
       "    </tr>\n",
       "    <tr>\n",
       "      <th>投放总时间</th>\n",
       "      <td>22</td>\n",
       "      <td>10</td>\n",
       "      <td>19</td>\n",
       "    </tr>\n",
       "    <tr>\n",
       "      <th>素材类型</th>\n",
       "      <td>swf</td>\n",
       "      <td>swf</td>\n",
       "      <td>gif</td>\n",
       "    </tr>\n",
       "    <tr>\n",
       "      <th>广告类型</th>\n",
       "      <td>通栏</td>\n",
       "      <td>通栏</td>\n",
       "      <td>暂停</td>\n",
       "    </tr>\n",
       "    <tr>\n",
       "      <th>合作方式</th>\n",
       "      <td>cpc</td>\n",
       "      <td>cpd</td>\n",
       "      <td>cpc</td>\n",
       "    </tr>\n",
       "    <tr>\n",
       "      <th>广告尺寸</th>\n",
       "      <td>900*120</td>\n",
       "      <td>900*120</td>\n",
       "      <td>390*270</td>\n",
       "    </tr>\n",
       "    <tr>\n",
       "      <th>广告卖点</th>\n",
       "      <td>打折</td>\n",
       "      <td>打折</td>\n",
       "      <td>直降</td>\n",
       "    </tr>\n",
       "  </tbody>\n",
       "</table>\n",
       "</div>"
      ],
      "text/plain": [
       "            886      887      888\n",
       "渠道代号        A40      A41     A826\n",
       "日均UV     310.53  1370.38     0.86\n",
       "平均注册率    0.0002   0.0001        0\n",
       "平均搜索量    0.0028   0.0016        0\n",
       "访问深度     1.1546   1.3939  52.6591\n",
       "平均停留时间    543.8   613.32  1932.61\n",
       "订单转化率    0.0001   0.0001        0\n",
       "投放总时间        22       10       19\n",
       "素材类型        swf      swf      gif\n",
       "广告类型         通栏       通栏       暂停\n",
       "合作方式        cpc      cpd      cpc\n",
       "广告尺寸    900*120  900*120  390*270\n",
       "广告卖点         打折       打折       直降"
      ]
     },
     "execution_count": 3,
     "metadata": {},
     "output_type": "execute_result"
    }
   ],
   "source": [
    "# 数据概观\n",
    "df.tail(3).T"
   ]
  },
  {
   "cell_type": "code",
   "execution_count": 4,
   "metadata": {},
   "outputs": [
    {
     "data": {
      "text/plain": [
       "渠道代号       object\n",
       "日均UV      float64\n",
       "平均注册率     float64\n",
       "平均搜索量     float64\n",
       "访问深度      float64\n",
       "平均停留时间    float64\n",
       "订单转化率     float64\n",
       "投放总时间     float64\n",
       "素材类型       object\n",
       "广告类型       object\n",
       "合作方式       object\n",
       "广告尺寸       object\n",
       "广告卖点       object\n",
       "dtype: object"
      ]
     },
     "execution_count": 4,
     "metadata": {},
     "output_type": "execute_result"
    }
   ],
   "source": [
    "# 数据类型\n",
    "df.dtypes"
   ]
  },
  {
   "cell_type": "code",
   "execution_count": 5,
   "metadata": {},
   "outputs": [
    {
     "data": {
      "text/plain": [
       "渠道代号      0\n",
       "日均UV      0\n",
       "平均注册率     0\n",
       "平均搜索量     0\n",
       "访问深度      0\n",
       "平均停留时间    2\n",
       "订单转化率     0\n",
       "投放总时间     0\n",
       "素材类型      0\n",
       "广告类型      0\n",
       "合作方式      0\n",
       "广告尺寸      0\n",
       "广告卖点      0\n",
       "dtype: int64"
      ]
     },
     "execution_count": 5,
     "metadata": {},
     "output_type": "execute_result"
    }
   ],
   "source": [
    "# 缺失值情况\n",
    "df.isna().sum()"
   ]
  },
  {
   "cell_type": "code",
   "execution_count": 6,
   "metadata": {
    "scrolled": true
   },
   "outputs": [
    {
     "data": {
      "text/html": [
       "<div>\n",
       "<style scoped>\n",
       "    .dataframe tbody tr th:only-of-type {\n",
       "        vertical-align: middle;\n",
       "    }\n",
       "\n",
       "    .dataframe tbody tr th {\n",
       "        vertical-align: top;\n",
       "    }\n",
       "\n",
       "    .dataframe thead th {\n",
       "        text-align: right;\n",
       "    }\n",
       "</style>\n",
       "<table border=\"1\" class=\"dataframe\">\n",
       "  <thead>\n",
       "    <tr style=\"text-align: right;\">\n",
       "      <th></th>\n",
       "      <th>日均UV</th>\n",
       "      <th>平均注册率</th>\n",
       "      <th>平均搜索量</th>\n",
       "      <th>访问深度</th>\n",
       "      <th>平均停留时间</th>\n",
       "      <th>订单转化率</th>\n",
       "      <th>投放总时间</th>\n",
       "    </tr>\n",
       "  </thead>\n",
       "  <tbody>\n",
       "    <tr>\n",
       "      <th>count</th>\n",
       "      <td>889.000</td>\n",
       "      <td>889.000</td>\n",
       "      <td>889.000</td>\n",
       "      <td>889.000</td>\n",
       "      <td>887.000</td>\n",
       "      <td>889.000</td>\n",
       "      <td>889.000</td>\n",
       "    </tr>\n",
       "    <tr>\n",
       "      <th>mean</th>\n",
       "      <td>540.847</td>\n",
       "      <td>0.001</td>\n",
       "      <td>0.030</td>\n",
       "      <td>2.167</td>\n",
       "      <td>262.669</td>\n",
       "      <td>0.003</td>\n",
       "      <td>16.053</td>\n",
       "    </tr>\n",
       "    <tr>\n",
       "      <th>std</th>\n",
       "      <td>1634.410</td>\n",
       "      <td>0.003</td>\n",
       "      <td>0.106</td>\n",
       "      <td>3.801</td>\n",
       "      <td>224.365</td>\n",
       "      <td>0.012</td>\n",
       "      <td>8.509</td>\n",
       "    </tr>\n",
       "    <tr>\n",
       "      <th>min</th>\n",
       "      <td>0.060</td>\n",
       "      <td>0.000</td>\n",
       "      <td>0.000</td>\n",
       "      <td>1.000</td>\n",
       "      <td>1.640</td>\n",
       "      <td>0.000</td>\n",
       "      <td>1.000</td>\n",
       "    </tr>\n",
       "    <tr>\n",
       "      <th>25%</th>\n",
       "      <td>6.180</td>\n",
       "      <td>0.000</td>\n",
       "      <td>0.001</td>\n",
       "      <td>1.392</td>\n",
       "      <td>126.020</td>\n",
       "      <td>0.000</td>\n",
       "      <td>9.000</td>\n",
       "    </tr>\n",
       "    <tr>\n",
       "      <th>50%</th>\n",
       "      <td>114.180</td>\n",
       "      <td>0.000</td>\n",
       "      <td>0.003</td>\n",
       "      <td>1.793</td>\n",
       "      <td>236.550</td>\n",
       "      <td>0.000</td>\n",
       "      <td>16.000</td>\n",
       "    </tr>\n",
       "    <tr>\n",
       "      <th>75%</th>\n",
       "      <td>466.870</td>\n",
       "      <td>0.001</td>\n",
       "      <td>0.012</td>\n",
       "      <td>2.216</td>\n",
       "      <td>357.985</td>\n",
       "      <td>0.002</td>\n",
       "      <td>24.000</td>\n",
       "    </tr>\n",
       "    <tr>\n",
       "      <th>max</th>\n",
       "      <td>25294.770</td>\n",
       "      <td>0.039</td>\n",
       "      <td>1.037</td>\n",
       "      <td>98.980</td>\n",
       "      <td>4450.830</td>\n",
       "      <td>0.216</td>\n",
       "      <td>30.000</td>\n",
       "    </tr>\n",
       "  </tbody>\n",
       "</table>\n",
       "</div>"
      ],
      "text/plain": [
       "            日均UV    平均注册率    平均搜索量     访问深度    平均停留时间    订单转化率    投放总时间\n",
       "count    889.000  889.000  889.000  889.000   887.000  889.000  889.000\n",
       "mean     540.847    0.001    0.030    2.167   262.669    0.003   16.053\n",
       "std     1634.410    0.003    0.106    3.801   224.365    0.012    8.509\n",
       "min        0.060    0.000    0.000    1.000     1.640    0.000    1.000\n",
       "25%        6.180    0.000    0.001    1.392   126.020    0.000    9.000\n",
       "50%      114.180    0.000    0.003    1.793   236.550    0.000   16.000\n",
       "75%      466.870    0.001    0.012    2.216   357.985    0.002   24.000\n",
       "max    25294.770    0.039    1.037   98.980  4450.830    0.216   30.000"
      ]
     },
     "execution_count": 6,
     "metadata": {},
     "output_type": "execute_result"
    }
   ],
   "source": [
    "# 原始数据基本描述\n",
    "df.describe().round(3)"
   ]
  },
  {
   "cell_type": "code",
   "execution_count": 10,
   "metadata": {},
   "outputs": [
    {
     "data": {
      "text/plain": [
       "<matplotlib.axes._subplots.AxesSubplot at 0x24f28b2c0f0>"
      ]
     },
     "execution_count": 10,
     "metadata": {},
     "output_type": "execute_result"
    },
    {
     "data": {
      "image/png": "[encoded data removed]",
      "text/plain": [
       "<Figure size 432x288 with 1 Axes>"
      ]
     },
     "metadata": {},
     "output_type": "display_data"
    }
   ],
   "source": [
    "df.iloc[:, 1].hist()"
   ]
  },
  {
   "cell_type": "markdown",
   "metadata": {},
   "source": [
    "如下的描述性统计结果中，反映了3个信息点：\n",
    "+ 日均UV的数据标准差很大，说明了不同渠道间的特征差异非常明显。\n",
    "+ 平均停留时间的有效数据（非空数据）只有887，比其他数据少2条，这也印证了上述缺失值统计结果。\n",
    "+ 平均注册率、平均搜索量、订单转化率的多个统计量（例如最小值、25%分位数等）都为0，看似数据不太正常。"
   ]
  },
  {
   "cell_type": "code",
   "execution_count": 11,
   "metadata": {
    "scrolled": true
   },
   "outputs": [
    {
     "data": {
      "text/html": [
       "<div>\n",
       "<style scoped>\n",
       "    .dataframe tbody tr th:only-of-type {\n",
       "        vertical-align: middle;\n",
       "    }\n",
       "\n",
       "    .dataframe tbody tr th {\n",
       "        vertical-align: top;\n",
       "    }\n",
       "\n",
       "    .dataframe thead th {\n",
       "        text-align: right;\n",
       "    }\n",
       "</style>\n",
       "<table border=\"1\" class=\"dataframe\">\n",
       "  <thead>\n",
       "    <tr style=\"text-align: right;\">\n",
       "      <th></th>\n",
       "      <th>日均UV</th>\n",
       "      <th>平均注册率</th>\n",
       "      <th>平均搜索量</th>\n",
       "      <th>访问深度</th>\n",
       "      <th>平均停留时间</th>\n",
       "      <th>订单转化率</th>\n",
       "      <th>投放总时间</th>\n",
       "    </tr>\n",
       "  </thead>\n",
       "  <tbody>\n",
       "    <tr>\n",
       "      <th>日均UV</th>\n",
       "      <td>1.000000</td>\n",
       "      <td>-0.051159</td>\n",
       "      <td>-0.073483</td>\n",
       "      <td>-0.021726</td>\n",
       "      <td>0.035083</td>\n",
       "      <td>-0.045224</td>\n",
       "      <td>-0.038488</td>\n",
       "    </tr>\n",
       "    <tr>\n",
       "      <th>平均注册率</th>\n",
       "      <td>-0.051159</td>\n",
       "      <td>1.000000</td>\n",
       "      <td>0.238122</td>\n",
       "      <td>0.106264</td>\n",
       "      <td>0.220294</td>\n",
       "      <td>0.316553</td>\n",
       "      <td>-0.014101</td>\n",
       "    </tr>\n",
       "    <tr>\n",
       "      <th>平均搜索量</th>\n",
       "      <td>-0.073483</td>\n",
       "      <td>0.238122</td>\n",
       "      <td>1.000000</td>\n",
       "      <td>0.063127</td>\n",
       "      <td>0.165074</td>\n",
       "      <td>0.125908</td>\n",
       "      <td>-0.026784</td>\n",
       "    </tr>\n",
       "    <tr>\n",
       "      <th>访问深度</th>\n",
       "      <td>-0.021726</td>\n",
       "      <td>0.106264</td>\n",
       "      <td>0.063127</td>\n",
       "      <td>1.000000</td>\n",
       "      <td>0.724685</td>\n",
       "      <td>0.163709</td>\n",
       "      <td>0.057460</td>\n",
       "    </tr>\n",
       "    <tr>\n",
       "      <th>平均停留时间</th>\n",
       "      <td>0.035083</td>\n",
       "      <td>0.220294</td>\n",
       "      <td>0.165074</td>\n",
       "      <td>0.724685</td>\n",
       "      <td>1.000000</td>\n",
       "      <td>0.253011</td>\n",
       "      <td>0.047051</td>\n",
       "    </tr>\n",
       "    <tr>\n",
       "      <th>订单转化率</th>\n",
       "      <td>-0.045224</td>\n",
       "      <td>0.316553</td>\n",
       "      <td>0.125908</td>\n",
       "      <td>0.163709</td>\n",
       "      <td>0.253011</td>\n",
       "      <td>1.000000</td>\n",
       "      <td>-0.004612</td>\n",
       "    </tr>\n",
       "    <tr>\n",
       "      <th>投放总时间</th>\n",
       "      <td>-0.038488</td>\n",
       "      <td>-0.014101</td>\n",
       "      <td>-0.026784</td>\n",
       "      <td>0.057460</td>\n",
       "      <td>0.047051</td>\n",
       "      <td>-0.004612</td>\n",
       "      <td>1.000000</td>\n",
       "    </tr>\n",
       "  </tbody>\n",
       "</table>\n",
       "</div>"
      ],
      "text/plain": [
       "            日均UV     平均注册率     平均搜索量      访问深度    平均停留时间     订单转化率     投放总时间\n",
       "日均UV    1.000000 -0.051159 -0.073483 -0.021726  0.035083 -0.045224 -0.038488\n",
       "平均注册率  -0.051159  1.000000  0.238122  0.106264  0.220294  0.316553 -0.014101\n",
       "平均搜索量  -0.073483  0.238122  1.000000  0.063127  0.165074  0.125908 -0.026784\n",
       "访问深度   -0.021726  0.106264  0.063127  1.000000  0.724685  0.163709  0.057460\n",
       "平均停留时间  0.035083  0.220294  0.165074  0.724685  1.000000  0.253011  0.047051\n",
       "订单转化率  -0.045224  0.316553  0.125908  0.163709  0.253011  1.000000 -0.004612\n",
       "投放总时间  -0.038488 -0.014101 -0.026784  0.057460  0.047051 -0.004612  1.000000"
      ]
     },
     "execution_count": 11,
     "metadata": {},
     "output_type": "execute_result"
    }
   ],
   "source": [
    "# 计算特征相关性\n",
    "df.corr()"
   ]
  },
  {
   "cell_type": "markdown",
   "metadata": {},
   "source": [
    "通过相关性结果分析，12个特征中平均停留时间和访问深度的相关系数为0.72，这两个指标具有较高的相关性，但特征也不是非常明显；其他特征之间的相关性关系都不突出。"
   ]
  },
  {
   "cell_type": "code",
   "execution_count": 13,
   "metadata": {},
   "outputs": [],
   "source": [
    "# 使用平均值替换缺失值\n",
    "df = df.fillna(df['平均停留时间'].mean())"
   ]
  },
  {
   "cell_type": "code",
   "execution_count": 16,
   "metadata": {},
   "outputs": [],
   "source": [
    "# 字符串分类转整数分类\n",
    "conver_cols = ['素材类型', '广告类型', '合作方式', '广告尺寸', '广告卖点']\n",
    "convert_matrix = df[conver_cols]  # 获得要转换的数组\n",
    "lines = df.shape[0]  # 获得总记录数\n",
    "dict_list = []  # 总空列表，用于存放字符串与对应索引组成的字典\n",
    "unique_list = []  # 总唯一值列表，用于存储每个列的唯一值列表\n",
    "for col_name in conver_cols:  # 循环读取每个列名\n",
    "    cols_unqiue_value = df[col_name].unique().tolist()  # 获取列的唯一值列表\n",
    "    unique_list.append(cols_unqiue_value)  # 将唯一值列表追加到总列表\n",
    "for line_index in range(lines):  # 读取每行索引\n",
    "    each_record = convert_matrix.iloc[line_index]  # 获得每行数据，是一个Series\n",
    "    for each_index, each_data in enumerate(each_record):  # 读取Series每行对应的索引值\n",
    "        list_value = unique_list[each_index]  # 读取该行索引对应到总唯一值列表列索引下的数据(其实是相当于原来的列做了转置成了行，目的是查找唯一值在列表中的位置)\n",
    "        each_record[each_index] = list_value.index(each_data)  # 获得每个值对应到总唯一值列表中的索引\n",
    "    each_dict = dict(zip(conver_cols, each_record))  # 将每个值和对应的索引组合字典\n",
    "    dict_list.append(each_dict)  # 将字典追加到总列表\n",
    "model_dvtransform = DictVectorizer(sparse=False, dtype=np.int64)  # 建立转换模型对象\n",
    "data_dictvec = model_dvtransform.fit_transform(dict_list)  # 应用分类转换训练"
   ]
  },
  {
   "cell_type": "code",
   "execution_count": 18,
   "metadata": {},
   "outputs": [],
   "source": [
    "# 获取特征转换成矩阵\n",
    "scale_matrix = df.iloc[:, 1:8]\n",
    "# 建立MinMaxScaler模型对象\n",
    "minmax_scaler = MinMaxScaler()\n",
    "# 标准化数据\n",
    "data_scaled = minmax_scaler.fit_transform(scale_matrix)"
   ]
  },
  {
   "cell_type": "code",
   "execution_count": 19,
   "metadata": {},
   "outputs": [],
   "source": [
    "# 矩阵合并成目标数据\n",
    "X = np.hstack((data_scaled, data_dictvec))"
   ]
  },
  {
   "cell_type": "code",
   "execution_count": 22,
   "metadata": {
    "scrolled": true
   },
   "outputs": [
    {
     "name": "stdout",
     "output_type": "stream",
     "text": [
      "＊＊＊＊＊＊＊＊＊＊＊＊＊＊K value and silhouette summary:＊＊＊＊＊＊＊＊＊＊＊＊＊＊＊\n",
      "[[2.         0.46692821]\n",
      " [3.         0.54904646]\n",
      " [4.         0.56968547]\n",
      " [5.         0.48186604]\n",
      " [6.         0.45477667]\n",
      " [7.         0.48204261]\n",
      " [8.         0.50447223]\n",
      " [9.         0.52697493]]\n",
      "Best K is:4 with average silhouette of 0.5697\n"
     ]
    }
   ],
   "source": [
    "# 用来存储每个k下模型的平均轮廓系数\n",
    "score_list =[]\n",
    "# 初始化的平均轮廓系数阈值\n",
    "silhouette_int = -1\n",
    "# k取分别取2-9，评估模型情况\n",
    "for n_clusters in range(2, 10):\n",
    "    # 建立聚类模型对象\n",
    "    kmeans = KMeans(n_clusters=n_clusters, random_state=0)\n",
    "    # 训练聚类模型\n",
    "    labels = kmeans.fit_predict(X)\n",
    "    # 获取每个K的平均轮廓系数\n",
    "    silhouette_tmp = metrics.silhouette_score(X, labels)\n",
    "    # 如果平均轮廓系数更高，储存模型\n",
    "    if silhouette_tmp > silhouette_int:\n",
    "        best_k = n_clusters    # 记录最好K\n",
    "        best_kmeans = kmeans   # 记录最好模型\n",
    "        silhouette_int = silhouette_tmp  # 记录最好平均轮廓\n",
    "        cluster_labels = labels   #记录最好的labels\n",
    "    # 记录每次的K和轮廓值\n",
    "    score_list.append([n_clusters, silhouette_tmp])\n",
    "print ('{:＊^60}'.format('K value and silhouette summary:'))\n",
    "print (np.array(score_list))  # 打印输出所有K下的详细得分\n",
    "print ('Best K is:{} with average silhouette of {}'.format(best_k, silhouette_int.round(4)))"
   ]
  },
  {
   "cell_type": "markdown",
   "metadata": {},
   "source": [
    "对于平均轮廓系数而言，其值域分布式[-1, 1]。因此silhouette_int的初始值可以设置为-1或比-1更小的值。\n",
    "\n",
    "上述结果显示了不同K下的平均轮廓得分。就经验看，如果平均轮廓得分值小于0，意味着聚类效果不佳；如果值大约0且小于0.5，那么说明聚类效果一般；如果值大于0.5，则说明聚类效果比较好。本案例在K=4时，得分为0.5697，说明效果较好。"
   ]
  },
  {
   "cell_type": "code",
   "execution_count": 23,
   "metadata": {},
   "outputs": [],
   "source": [
    "# 将最优情况的标签整合到原始数据上\n",
    "df['clusters'] = cluster_labels"
   ]
  },
  {
   "cell_type": "code",
   "execution_count": 101,
   "metadata": {
    "scrolled": false
   },
   "outputs": [
    {
     "data": {
      "text/html": [
       "<div>\n",
       "<style scoped>\n",
       "    .dataframe tbody tr th:only-of-type {\n",
       "        vertical-align: middle;\n",
       "    }\n",
       "\n",
       "    .dataframe tbody tr th {\n",
       "        vertical-align: top;\n",
       "    }\n",
       "\n",
       "    .dataframe thead th {\n",
       "        text-align: right;\n",
       "    }\n",
       "</style>\n",
       "<table border=\"1\" class=\"dataframe\">\n",
       "  <thead>\n",
       "    <tr style=\"text-align: right;\">\n",
       "      <th></th>\n",
       "      <th>counts</th>\n",
       "      <th>percentage</th>\n",
       "    </tr>\n",
       "  </thead>\n",
       "  <tbody>\n",
       "    <tr>\n",
       "      <th>0</th>\n",
       "      <td>411</td>\n",
       "      <td>0.46</td>\n",
       "    </tr>\n",
       "    <tr>\n",
       "      <th>1</th>\n",
       "      <td>297</td>\n",
       "      <td>0.33</td>\n",
       "    </tr>\n",
       "    <tr>\n",
       "      <th>3</th>\n",
       "      <td>154</td>\n",
       "      <td>0.17</td>\n",
       "    </tr>\n",
       "    <tr>\n",
       "      <th>2</th>\n",
       "      <td>27</td>\n",
       "      <td>0.03</td>\n",
       "    </tr>\n",
       "  </tbody>\n",
       "</table>\n",
       "</div>"
      ],
      "text/plain": [
       "   counts  percentage\n",
       "0     411        0.46\n",
       "1     297        0.33\n",
       "3     154        0.17\n",
       "2      27        0.03"
      ]
     },
     "execution_count": 101,
     "metadata": {},
     "output_type": "execute_result"
    }
   ],
   "source": [
    "# 每个聚类的样本量\n",
    "cluster_count = pd.DataFrame(df.clusters.value_counts()).rename(columns={'clusters': 'counts'})\n",
    "# 获取样本占比\n",
    "cluster_count['percentage'] = (cluster_count.counts/cluster_count.counts.sum()).round(2)\n",
    "cluster_count"
   ]
  },
  {
   "cell_type": "code",
   "execution_count": 102,
   "metadata": {},
   "outputs": [
    {
     "data": {
      "image/png": "[encoded data removed]",
      "text/plain": [
       "<Figure size 360x360 with 1 Axes>"
      ]
     },
     "metadata": {},
     "output_type": "display_data"
    }
   ],
   "source": [
    "### 可视化 ###\n",
    "# 设置颜色\n",
    "colors='yellowgreen','gold','lightskyblue','lightcoral'\n",
    "# 设置分离\n",
    "explode=0.1,0,0,0\n",
    "# 设置画幅\n",
    "plt.figure(figsize=(5, 5))\n",
    "# 作图\n",
    "plt.pie(cluster_count.counts,explode=explode,labels=cluster_count.index,colors=colors,autopct='%1.1f%%',shadow=True,startangle=50)\n",
    "plt.savefig('x.png')"
   ]
  },
  {
   "cell_type": "code",
   "execution_count": 58,
   "metadata": {},
   "outputs": [],
   "source": [
    "# 空列表，用于存储最终合并后的所有特征信息\n",
    "cluster_features = []  \n",
    "for line in range(best_k):  # 读取每个类索引\n",
    "    label_data = df[df['clusters'] == line]  # 获得特定类的数据\n",
    "\n",
    "    part1_data = label_data.iloc[:, 1:8]  # 获得数值型数据特征\n",
    "    part1_desc = part1_data.describe().round(3)  # 得到数值型特征的描述性统计信息\n",
    "    merge_data1 = part1_desc.iloc[1, :]  # 得到数值型特征的均值\n",
    "\n",
    "    part2_data = label_data.iloc[:, 8:-1]  # 获得字符串型数据特征\n",
    "    part2_desc = part2_data.describe(include='all')  # 获得字符串型数据特征的描述性统计信息\n",
    "    merge_data2 = part2_desc.iloc[2, :]  # 获得字符串型数据特征的最频繁值\n",
    "\n",
    "    merge_line = pd.concat((merge_data1, merge_data2), axis=0)  # 将数值型和字符串型典型特征沿行合并\n",
    "    cluster_features.append(merge_line)  # 将每个类别下的数据特征追加到列表"
   ]
  },
  {
   "cell_type": "code",
   "execution_count": 88,
   "metadata": {},
   "outputs": [
    {
     "data": {
      "text/html": [
       "<div>\n",
       "<style scoped>\n",
       "    .dataframe tbody tr th:only-of-type {\n",
       "        vertical-align: middle;\n",
       "    }\n",
       "\n",
       "    .dataframe tbody tr th {\n",
       "        vertical-align: top;\n",
       "    }\n",
       "\n",
       "    .dataframe thead th {\n",
       "        text-align: right;\n",
       "    }\n",
       "</style>\n",
       "<table border=\"1\" class=\"dataframe\">\n",
       "  <thead>\n",
       "    <tr style=\"text-align: right;\">\n",
       "      <th></th>\n",
       "      <th>0</th>\n",
       "      <th>1</th>\n",
       "      <th>2</th>\n",
       "      <th>3</th>\n",
       "    </tr>\n",
       "  </thead>\n",
       "  <tbody>\n",
       "    <tr>\n",
       "      <th>counts</th>\n",
       "      <td>411</td>\n",
       "      <td>297</td>\n",
       "      <td>27</td>\n",
       "      <td>154</td>\n",
       "    </tr>\n",
       "    <tr>\n",
       "      <th>percentage</th>\n",
       "      <td>0.46</td>\n",
       "      <td>0.33</td>\n",
       "      <td>0.03</td>\n",
       "      <td>0.17</td>\n",
       "    </tr>\n",
       "    <tr>\n",
       "      <th>日均UV</th>\n",
       "      <td>539.117</td>\n",
       "      <td>461.381</td>\n",
       "      <td>973.638</td>\n",
       "      <td>622.838</td>\n",
       "    </tr>\n",
       "    <tr>\n",
       "      <th>平均注册率</th>\n",
       "      <td>0.001</td>\n",
       "      <td>0.001</td>\n",
       "      <td>0.001</td>\n",
       "      <td>0.003</td>\n",
       "    </tr>\n",
       "    <tr>\n",
       "      <th>平均搜索量</th>\n",
       "      <td>0.023</td>\n",
       "      <td>0.044</td>\n",
       "      <td>0.051</td>\n",
       "      <td>0.02</td>\n",
       "    </tr>\n",
       "    <tr>\n",
       "      <th>访问深度</th>\n",
       "      <td>1.863</td>\n",
       "      <td>2.424</td>\n",
       "      <td>3.873</td>\n",
       "      <td>2.183</td>\n",
       "    </tr>\n",
       "    <tr>\n",
       "      <th>平均停留时间</th>\n",
       "      <td>203.328</td>\n",
       "      <td>335.252</td>\n",
       "      <td>441.967</td>\n",
       "      <td>249.625</td>\n",
       "    </tr>\n",
       "    <tr>\n",
       "      <th>订单转化率</th>\n",
       "      <td>0.002</td>\n",
       "      <td>0.004</td>\n",
       "      <td>0.006</td>\n",
       "      <td>0.003</td>\n",
       "    </tr>\n",
       "    <tr>\n",
       "      <th>投放总时间</th>\n",
       "      <td>15.601</td>\n",
       "      <td>16.879</td>\n",
       "      <td>15.37</td>\n",
       "      <td>15.786</td>\n",
       "    </tr>\n",
       "    <tr>\n",
       "      <th>素材类型</th>\n",
       "      <td>swf</td>\n",
       "      <td>jpg</td>\n",
       "      <td>swf</td>\n",
       "      <td>jpg</td>\n",
       "    </tr>\n",
       "    <tr>\n",
       "      <th>广告类型</th>\n",
       "      <td>不确定</td>\n",
       "      <td>不确定</td>\n",
       "      <td>通栏</td>\n",
       "      <td>banner</td>\n",
       "    </tr>\n",
       "    <tr>\n",
       "      <th>合作方式</th>\n",
       "      <td>cpc</td>\n",
       "      <td>cpc</td>\n",
       "      <td>cpc</td>\n",
       "      <td>cpc</td>\n",
       "    </tr>\n",
       "    <tr>\n",
       "      <th>广告尺寸</th>\n",
       "      <td>600*90</td>\n",
       "      <td>600*90</td>\n",
       "      <td>900*120</td>\n",
       "      <td>308*388</td>\n",
       "    </tr>\n",
       "    <tr>\n",
       "      <th>广告卖点</th>\n",
       "      <td>打折</td>\n",
       "      <td>直降</td>\n",
       "      <td>打折</td>\n",
       "      <td>满减</td>\n",
       "    </tr>\n",
       "  </tbody>\n",
       "</table>\n",
       "</div>"
      ],
      "text/plain": [
       "                  0        1        2        3\n",
       "counts          411      297       27      154\n",
       "percentage     0.46     0.33     0.03     0.17\n",
       "日均UV        539.117  461.381  973.638  622.838\n",
       "平均注册率         0.001    0.001    0.001    0.003\n",
       "平均搜索量         0.023    0.044    0.051     0.02\n",
       "访问深度          1.863    2.424    3.873    2.183\n",
       "平均停留时间      203.328  335.252  441.967  249.625\n",
       "订单转化率         0.002    0.004    0.006    0.003\n",
       "投放总时间        15.601   16.879    15.37   15.786\n",
       "素材类型            swf      jpg      swf      jpg\n",
       "广告类型            不确定      不确定       通栏   banner\n",
       "合作方式            cpc      cpc      cpc      cpc\n",
       "广告尺寸         600*90   600*90  900*120  308*388\n",
       "广告卖点             打折       直降       打折       满减"
      ]
     },
     "execution_count": 88,
     "metadata": {},
     "output_type": "execute_result"
    }
   ],
   "source": [
    "# 将列表转化为矩阵\n",
    "cluster_pd = pd.DataFrame(cluster_features) \n",
    "# 将信息合并\n",
    "all_cluster_set = cluster_count.join(cluster_pd).sort_index().T\n",
    "all_cluster_set"
   ]
  },
  {
   "cell_type": "code",
   "execution_count": 93,
   "metadata": {},
   "outputs": [],
   "source": [
    "# 获取要显示的数据\n",
    "num_sets = cluster_pd.iloc[:,:6].astype('float64')"
   ]
  },
  {
   "cell_type": "code",
   "execution_count": 94,
   "metadata": {
    "scrolled": false
   },
   "outputs": [
    {
     "data": {
      "text/html": [
       "<div>\n",
       "<style scoped>\n",
       "    .dataframe tbody tr th:only-of-type {\n",
       "        vertical-align: middle;\n",
       "    }\n",
       "\n",
       "    .dataframe tbody tr th {\n",
       "        vertical-align: top;\n",
       "    }\n",
       "\n",
       "    .dataframe thead th {\n",
       "        text-align: right;\n",
       "    }\n",
       "</style>\n",
       "<table border=\"1\" class=\"dataframe\">\n",
       "  <thead>\n",
       "    <tr style=\"text-align: right;\">\n",
       "      <th></th>\n",
       "      <th>日均UV</th>\n",
       "      <th>平均注册率</th>\n",
       "      <th>平均搜索量</th>\n",
       "      <th>访问深度</th>\n",
       "      <th>平均停留时间</th>\n",
       "      <th>订单转化率</th>\n",
       "    </tr>\n",
       "  </thead>\n",
       "  <tbody>\n",
       "    <tr>\n",
       "      <th>0</th>\n",
       "      <td>539.117</td>\n",
       "      <td>0.001</td>\n",
       "      <td>0.023</td>\n",
       "      <td>1.863</td>\n",
       "      <td>203.328</td>\n",
       "      <td>0.002</td>\n",
       "    </tr>\n",
       "    <tr>\n",
       "      <th>1</th>\n",
       "      <td>461.381</td>\n",
       "      <td>0.001</td>\n",
       "      <td>0.044</td>\n",
       "      <td>2.424</td>\n",
       "      <td>335.252</td>\n",
       "      <td>0.004</td>\n",
       "    </tr>\n",
       "    <tr>\n",
       "      <th>2</th>\n",
       "      <td>973.638</td>\n",
       "      <td>0.001</td>\n",
       "      <td>0.051</td>\n",
       "      <td>3.873</td>\n",
       "      <td>441.967</td>\n",
       "      <td>0.006</td>\n",
       "    </tr>\n",
       "    <tr>\n",
       "      <th>3</th>\n",
       "      <td>622.838</td>\n",
       "      <td>0.003</td>\n",
       "      <td>0.020</td>\n",
       "      <td>2.183</td>\n",
       "      <td>249.625</td>\n",
       "      <td>0.003</td>\n",
       "    </tr>\n",
       "  </tbody>\n",
       "</table>\n",
       "</div>"
      ],
      "text/plain": [
       "      日均UV  平均注册率  平均搜索量   访问深度   平均停留时间  订单转化率\n",
       "0  539.117  0.001  0.023  1.863  203.328  0.002\n",
       "1  461.381  0.001  0.044  2.424  335.252  0.004\n",
       "2  973.638  0.001  0.051  3.873  441.967  0.006\n",
       "3  622.838  0.003  0.020  2.183  249.625  0.003"
      ]
     },
     "execution_count": 94,
     "metadata": {},
     "output_type": "execute_result"
    }
   ],
   "source": [
    "num_sets"
   ]
  },
  {
   "cell_type": "code",
   "execution_count": 95,
   "metadata": {},
   "outputs": [],
   "source": [
    "# 获得标准化后的数据\n",
    "num_sets_max_min = minmax_scaler.fit_transform(num_sets)  "
   ]
  },
  {
   "cell_type": "code",
   "execution_count": 105,
   "metadata": {
    "scrolled": false
   },
   "outputs": [
    {
     "data": {
      "image/png": "[encoded data removed]",
      "text/plain": [
       "<Figure size 576x576 with 1 Axes>"
      ]
     },
     "metadata": {},
     "output_type": "display_data"
    }
   ],
   "source": [
    "fig = plt.figure(figsize=(8, 8))  # 建立画布\n",
    "ax = fig.add_subplot(111, polar=True)  # 增加子网格，注意polar参数\n",
    "labels = np.array(merge_data1.index[:-1])  # 设置要展示的数据标签\n",
    "cor_list = ['r', 'g', 'b', 'y']  # 定义不同类别的颜色\n",
    "angles = np.linspace(0, 2 * np.pi, len(labels), endpoint=False)  # 计算各个区间的角度\n",
    "angles = np.concatenate((angles, [angles[0]]))  # 建立相同首尾字段以便于闭合\n",
    "for i in range(len(num_sets)):  # 循环每个类别\n",
    "    data_tmp = num_sets_max_min[i, :]  # 获得对应类数据\n",
    "    data = np.concatenate((data_tmp, [data_tmp[0]]))  # 建立相同首尾字段以便于闭合\n",
    "    ax.plot(angles, data, 'o-', c=cor_list[i], label=i)  # 画线\n",
    "ax.set_thetagrids(angles * 180 / np.pi, labels, fontproperties=\"SimHei\")  # 设置极坐标轴\n",
    "ax.set_title(\"各聚类类别显著特征对比\", fontproperties=\"SimHei\")  # 设置标题放置\n",
    "ax.set_rlim(-0.2, 1.2)  # 设置坐标轴尺度范围\n",
    "plt.legend(loc=0)  # 设置图例位置\n",
    "plt.savefig('xx.png')\n",
    "plt.show()  # 展示图像"
   ]
  },
  {
   "cell_type": "markdown",
   "metadata": {},
   "source": [
    "使用`fig.add_subplot(111, polar=True)`为fig对象增加一个子网格，其中参数polar=True用来设置该子网格对象显示极坐标系。\n",
    "`np.array(merge_data1.index[:-1])`设置要展示的数据标签，标签从merge_data1的索引中获取。\n",
    "定义不同类别的颜色列表cor_list，分别代表红色、绿色、蓝色、黄色。\n",
    "通过`np.linspace(0, 2*np.pi, len(labels), endpoint=False)`计算各个区间的角度，由于要在雷达图中显示多个类别，这里需要按照类别将整个“圆”按照类别数平均划分。其中各个参数如下：\n",
    "+ 0：创建间隔区间的起始。\n",
    "+ 2*np.pi：创建间隔区间的末尾。\n",
    "+ len(labels)：间隔长度。\n",
    "+ endpoint：值设置False代表间隔的最后一个值不是间隔区间的末尾。\n",
    "\n",
    "最后使用`angles = np.concatenate((angles, [angles[0]]))`建立相同首尾字段以便于闭合。默认情况下，每个类别的多个特征在雷达图中首尾应该是相连的，这样才能形成闭合效果，因此这里将第一个只追加到列表末尾。"
   ]
  },
  {
   "cell_type": "markdown",
   "metadata": {},
   "source": [
    "## 案例总结\n",
    "### 初步分析：\n",
    "聚类1（索引值为0）：各方面的特征都不明显，换句话说就是效果比较平庸，没有明显的优势或短板。但这些“中庸”的广告媒体却构成了整个广告的主体。\n",
    "聚类2（索引值为1）：这类广告媒体在访问深度、平均停留时间、订单转化率以及平均搜索量等流量质量的特征上的表现较好，除了注册转化率较低外，该类渠道各方面比较均衡。更重要的是该类媒体的数量占据了33%的数量，因此是一类规模较大且综合效果较好的媒体。\n",
    "聚类3（索引值为2）：这类广告媒体跟聚类2非常类似，并且相对聚类2的典型特征表现更好，但综合其只占3%的媒体数量，属于少量的“精英”类渠道。\n",
    "聚类4（索引值为3）：这类渠道跟其他几类渠道有个明显的特征区隔，其日均UV和平均注册率非常突出，证明这是一类“引流”+“拉新”的渠道；而其他的流量质量方面的表现却比较差。\n",
    "### 深入分析：\n",
    "聚类1的广告渠道各方面表现均比较一般，因此需要业务部门重点考虑其投放的实际价值。\n",
    "聚类2的广告渠道的短板是日均UV和平均注册率，因此该类媒体无法为企业带来大量的流量以及新用户。这类广告的特质适合用户转化，尤其是有关订单转化的提升。\n",
    "聚类3的广告渠道跟效果拔群，但是由于实例比较少，不排除是因为个例导致效果扩大，可以合理增加此类渠道投放。\n",
    "聚类4的广告渠道更佳符合广告本身“广而告之”的基础诉求，因此适合在大规模的广告宣传和引流时使用，尤其对于新用户的注册转化上的效果非常明显，也适合“拉新”使用。"
   ]
  },
  {
   "cell_type": "markdown",
   "metadata": {},
   "source": [
    "## 案例引申\n",
    "本案例中通过平均轮廓系数的方法得到的最佳K值不一定在业务上具有明显的解读和应用价值。如果最佳K值的解读无效怎么办？有两种思路：\n",
    "+ 扩大K值范围，例如将K的范围调整为[2,12]，然后再次运算看更大范围内得到的K值是否更加有效并且能符合业务解读和应用需求。\n",
    "+ 得到平均轮廓系数“次要好”（而不是最好）的K值，再对其结果做分析。\n",
    "\n",
    "对于不同类别的典型特征的对比，除了使用雷达图直观地显示外，还可以使用多个柱形图的形式，将每个类别对应特征的值做柱形图统计，这样也是一个非常直观的对比方法。"
   ]
  },
  {
   "cell_type": "code",
   "execution_count": null,
   "metadata": {},
   "outputs": [],
   "source": []
  }
 ],
 "metadata": {
  "kernelspec": {
   "display_name": "Python 3",
   "language": "python",
   "name": "python3"
  },
  "language_info": {
   "codemirror_mode": {
    "name": "ipython",
    "version": 3
   },
   "file_extension": ".py",
   "mimetype": "text/x-python",
   "name": "python",
   "nbconvert_exporter": "python",
   "pygments_lexer": "ipython3",
   "version": "3.6.5"
  },
  "toc": {
   "base_numbering": 1,
   "nav_menu": {},
   "number_sections": true,
   "sideBar": true,
   "skip_h1_title": false,
   "title_cell": "Table of Contents",
   "title_sidebar": "Contents",
   "toc_cell": false,
   "toc_position": {},
   "toc_section_display": true,
   "toc_window_display": false
  }
 },
 "nbformat": 4,
 "nbformat_minor": 2
}
