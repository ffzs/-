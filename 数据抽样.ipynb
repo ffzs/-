{
 "cells": [
  {
   "cell_type": "markdown",
   "metadata": {},
   "source": [
    "抽样是数据处理的一种基本方法，常常伴随着计算资源不足、获取全部数据困难、时效性要求等情况使用。"
   ]
  },
  {
   "cell_type": "markdown",
   "metadata": {},
   "source": [
    "抽样方法\n",
    "+ 随机抽样 直接从整体数据中等概率抽取n个样本。这种方法优势是，简单、好操作、适用于分布均匀的场景；缺点是总体大时无法一一编号\n",
    "+ 系统抽样 又称机械、等距抽样，将总体中个体按顺序进行编号，然后计算出间隔，再按照抽样间隔抽取个体。优势,易于理解、简便易行。缺点是，如有明显分布规律时容易产生偏差。\n",
    "+ 群体抽样 总体分群，在随机抽取几个小群代表总体。优点是简单易行、便与组织；缺点是群体划分容易造成误差\n",
    "+ 分层抽样 先按照观察指标影响较大的某一种特征，将总体分若干个类别，再从每一层随机抽取一定数量的单位合并成总体。优点样本代表性好，少误差\n",
    "\n",
    "以上四种基本抽样方法都属单阶段抽样，实际应用中常根据实际情况将整个抽样过程分为若干阶段来进行，称为多阶段抽样。\n",
    "各种抽样方法的抽样误差一般是：整群抽样≥单纯随机抽样≥系统抽样≥分层抽样"
   ]
  },
  {
   "cell_type": "markdown",
   "metadata": {},
   "source": [
    "数据运营过程中，数据要能正确反映运营背景\n",
    "数据抽样过程中要注意一些问题\n",
    "+ 数据时效性 不能用过时的数据来分析现在的运营状态\n",
    "+ 关键因素数据 整体数据的关键性数据必须要在模型中，如双十一带来的销售增长\n",
    "+ 业务随机性 抽样数据要使各个场景的数据分布均衡\n",
    "+ 数据来源多样性 数据覆盖要全面\n",
    "\n",
    "抽样数据量问题\n",
    "+ 时间分布 能包含业务周期。月销售预测，至少包含12个月数据；时间还要考虑季节、节假日、特定促销日等周期性。\n",
    "+ 做预测分析 考虑特征数据和特征值域的分布，通常数据记录要同时是特征数量和特征值域的100倍以上。例如数据集有5个特征值，每个特征有2个值域，那么数据记录数需要至少1000（100*5*2）条以上\n",
    "+ 做关联规则分析 根据关联前后项数量（每个前项或后项可包含多个要关联的主体，例如品牌+商品+价格关联），每个主体需要至少1000条数据。例如只做单品销售关联，那么单品的销售记录需要在1000条以上；如果要同时做单品+品牌的关联，那么需要至少2000条数据。\n",
    "+ 异常检测 无论是监督室还是非监督式建模，对于异常数据本来就是小概率分布的，因此异常数据记录一般越多越好。"
   ]
  },
  {
   "cell_type": "code",
   "execution_count": 39,
   "metadata": {},
   "outputs": [
    {
     "data": {
      "text/plain": [
       "214"
      ]
     },
     "execution_count": 39,
     "metadata": {},
     "output_type": "execute_result"
    }
   ],
   "source": [
    "import random\n",
    "import numpy as np\n",
    "import pandas as pd\n",
    "\n",
    "# 导入数据\n",
    "df = pd.read_csv('https://raw.githubusercontent.com/ffzs/dataset/master/glass.csv')\n",
    "\n",
    "df.index.size"
   ]
  },
  {
   "cell_type": "code",
   "execution_count": 4,
   "metadata": {
    "scrolled": true
   },
   "outputs": [
    {
     "data": {
      "text/plain": [
       "20"
      ]
     },
     "execution_count": 4,
     "metadata": {},
     "output_type": "execute_result"
    }
   ],
   "source": [
    "##########随机抽样##########\n",
    "#\n",
    "# 使用pandas\n",
    "# DataFrame.sample(n=None, frac=None, replace=False, weights=None, random_state=None, axis=None)\n",
    "# n是要抽取的行数。（例如n=20000时，抽取其中的2W行）\n",
    "# frac是抽取的比列。（有一些时候，我们并对具体抽取的行数不关系，我们想抽取其中的百分比，这个时候就可以选择使用frac，例如frac=0.8，就是抽取其中80%）\n",
    "# replace：是否为有放回抽样，取replace=True时为有放回抽样。\n",
    "# weights这个是每个样本的权重，具体可以看官方文档说明。\n",
    "# random_state这个在之前的文章已经介绍过了。\n",
    "# axis是选择抽取数据的行还是列。axis=0的时是抽取行，axis=1时是抽取列（也就是说axis=1时，在列中随机抽取n列，在axis=0时，在行中随机抽取n行）\n",
    "\n",
    "df_0 = df.sample(n=20, replace=True)\n",
    "df_0.index.size"
   ]
  },
  {
   "cell_type": "code",
   "execution_count": 40,
   "metadata": {},
   "outputs": [
    {
     "data": {
      "text/plain": [
       "20"
      ]
     },
     "execution_count": 40,
     "metadata": {},
     "output_type": "execute_result"
    }
   ],
   "source": [
    "data = df.values\n",
    "\n",
    "# 使用random\n",
    "data_sample = random.sample(list(data), 20)\n",
    "len(data_sample)"
   ]
  },
  {
   "cell_type": "code",
   "execution_count": 41,
   "metadata": {},
   "outputs": [
    {
     "name": "stdout",
     "output_type": "stream",
     "text": [
      "4\n"
     ]
    },
    {
     "data": {
      "text/plain": [
       "51"
      ]
     },
     "execution_count": 41,
     "metadata": {},
     "output_type": "execute_result"
    }
   ],
   "source": [
    "##########等距抽样##########\n",
    "# 指定抽样数量\n",
    "sample_count = 50\n",
    "# 获取最大样本量\n",
    "record_count = data.shape[0]\n",
    "# 抽样间距\n",
    "width = record_count//sample_count\n",
    "data_sample = []\n",
    "i = 0\n",
    "# 本量小于等于指定抽样数量并且矩阵索引在有效范围内是\n",
    "while len(data_sample) <= sample_count and i * width <= record_count -1:\n",
    "    data_sample.append(data[i*width])\n",
    "    i += 1\n",
    "len(data_sample)"
   ]
  },
  {
   "cell_type": "code",
   "execution_count": 35,
   "metadata": {},
   "outputs": [
    {
     "data": {
      "text/plain": [
       "{1.0: 6, 2.0: 6, 3.0: 6, 5.0: 6, 6.0: 6, 7.0: 6}"
      ]
     },
     "execution_count": 35,
     "metadata": {},
     "output_type": "execute_result"
    }
   ],
   "source": [
    "##########分层抽样##########\n",
    "# 数据只是随便找的分层仅限于演示\n",
    "# 定义每个分层的抽样数量\n",
    "each_sample_count = 6\n",
    "# 定义分层值域\n",
    "label_data_unique = np.unique(data[:, -1])\n",
    "# 定义一些数据\n",
    "sample_list, sample_data, sample_dict = [], [], {}\n",
    "# 遍历每个分层标签\n",
    "for label_data in label_data_unique:\n",
    "    for data_tmp in data:  # 读取每条数据\n",
    "        if data_tmp[-1] == label_data:\n",
    "            sample_list.append(data_tmp)\n",
    "    # 对每层数据都数据抽样\n",
    "    each_sample_data = random.sample(sample_list, each_sample_count)\n",
    "    sample_data.extend(each_sample_data)\n",
    "    sample_dict[label_data] = len(each_sample_data)\n",
    "sample_dict"
   ]
  },
  {
   "cell_type": "code",
   "execution_count": 38,
   "metadata": {},
   "outputs": [
    {
     "data": {
      "text/plain": [
       "83"
      ]
     },
     "execution_count": 38,
     "metadata": {},
     "output_type": "execute_result"
    }
   ],
   "source": [
    "##########整群抽样##########\n",
    "# 数据分群仅限于演示，不符合实际情况\n",
    "# 定义整群的标签\n",
    "label_data_unique = np.unique(data[:, -1])\n",
    "# 随机抽取2个群\n",
    "sample_label = random.sample(list(label_data_unique), 2)\n",
    "# 定义空列表\n",
    "sample_data = []\n",
    "# 遍历每个整群标签值域\n",
    "for each_label in sample_label:\n",
    "    for data_tmp in data:\n",
    "        if data_tmp[-1] == each_label:\n",
    "            sample_data.append(data_tmp)\n",
    "len(sample_data)"
   ]
  },
  {
   "cell_type": "code",
   "execution_count": null,
   "metadata": {},
   "outputs": [],
   "source": []
  }
 ],
 "metadata": {
  "kernelspec": {
   "display_name": "Python 3",
   "language": "python",
   "name": "python3"
  },
  "language_info": {
   "codemirror_mode": {
    "name": "ipython",
    "version": 3
   },
   "file_extension": ".py",
   "mimetype": "text/x-python",
   "name": "python",
   "nbconvert_exporter": "python",
   "pygments_lexer": "ipython3",
   "version": "3.6.5"
  },
  "toc": {
   "base_numbering": 1,
   "nav_menu": {},
   "number_sections": true,
   "sideBar": true,
   "skip_h1_title": false,
   "title_cell": "Table of Contents",
   "title_sidebar": "Contents",
   "toc_cell": false,
   "toc_position": {},
   "toc_section_display": true,
   "toc_window_display": false
  }
 },
 "nbformat": 4,
 "nbformat_minor": 2
}
