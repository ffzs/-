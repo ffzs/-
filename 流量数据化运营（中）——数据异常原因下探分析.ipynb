{
 "cells": [
  {
   "cell_type": "markdown",
   "metadata": {},
   "source": [
    "## 从细分到多层下钻数据分析\n",
    "细分是网站分析的基本方法，也是数据分析的基本思路。细分分析的过程是对整体数据进行层层拆分，然后找到影响整体的局部因素。\n",
    "\n",
    "图一\n",
    "\n",
    "步骤1：全站流量按来源模块可细分为广告、SEM、SEO和直接输入（假设只有4个模块）。细分发现广告是网站流量的主要来源（昨日访问量占比82%），访问量增长2194，比例为67%，说明了广告是网站访问量增长的主要驱动因素。\n",
    "\n",
    "步骤2：对广告模块做进一步细分，发现其中主要增长模块为Sina，该模块昨日访问量占比79%，环比前日增长1990，比例为85%。如果该模块有不同的位置，还可以做进一步细分。\n",
    "\n",
    "至此已经找到了昨日网站访问量增长的主要原因是Sina来源流量增长，此时可直接找到Sina模块的业务负责人进行沟通进一步原因。"
   ]
  },
  {
   "cell_type": "markdown",
   "metadata": {},
   "source": [
    "## 案例背景\n",
    "日报、周报、月报等常规性报告是各个公司的基础数据支持形式。在日常报告中，经常会出现很多异常波动的指标，需要分析师找到异常波动的影响因素。但在寻找主要因素时由于需要下探的层级较多，实施起来会非常费时费力。以大型公司的广告投放渠道为例，可能包括以下层级：\n",
    "+ 一级渠道包括SEM、AD、CPS、Social、导航等；\n",
    "+ 二级渠道以SEM为基准包括百度、谷歌、360等；\n",
    "+ 三级渠道以百度为基准包括关键字、网盟等；\n",
    "+ 四级渠道以关键字为基准包括不同的广告计划；\n",
    "+ 五级渠道以广告计划为基准可以细分到不同的广告组；\n",
    "+ 六级渠道以广告组为基础可以细分到不同的关键字。\n",
    "\n",
    "本案例介绍了一个自动化细分找到主要影响因素的方法——基于自动节点树的数据异常原因下探分析方法，该方法的实施思路是：找到每个层级上影响最大的因素并依次做下一因素的细分，直至最后一个因素。具体过程如下：\n",
    "1. 统计全站在一定周期内、特定指标下的数据环比变化量和环比变化率。\n",
    "1. 指定要分析日期并获得该日期及其前1天的数据。\n",
    "1. 以全站数据为基准，下探第一层级维度并对指定日期和其前1天的数据做分类汇总。\n",
    "1. 计算第一层级维度下分类汇总后的两天数据的差值并得到环比变化量和环比变化率。\n",
    "1. 对第一层级维度下的变化量排序，并分别获得环比变化量最大和最小情况下的维度名称、变化量和变化率。\n",
    "1. 计算下一层级变化量与上一层级变化量的比值，变化量最大值和最小值的比例将被定义为正向贡献率和负向贡献率。\n",
    "1. 循环上述步骤，直至所有层级都计算完成。\n",
    "1. 使用树形图展示所有层级下的变化量最大和最小的维度信息包括维度名称、环比变化量、环比变化率、贡献率等信息。"
   ]
  },
  {
   "cell_type": "markdown",
   "metadata": {},
   "source": [
    "## 案例数据\n",
    "以下是本数据集的6个维度的详细说明：\n",
    "+ date：日期，格式是YYYY/MM/DD。\n",
    "+ source：流量来源一级分类，来源于业务部门的定义。\n",
    "+ site：流量来源二级分类，来源于业务部门的定义。\n",
    "+ channel：流量来源三级分类，来源于业务部门的定义。\n",
    "+ media：流量来源四级分类，来源于业务部门的定义。\n",
    "+ visit：访问量。"
   ]
  },
  {
   "cell_type": "code",
   "execution_count": 24,
   "metadata": {},
   "outputs": [
    {
     "data": {
      "text/html": [
       "<div>\n",
       "<style scoped>\n",
       "    .dataframe tbody tr th:only-of-type {\n",
       "        vertical-align: middle;\n",
       "    }\n",
       "\n",
       "    .dataframe tbody tr th {\n",
       "        vertical-align: top;\n",
       "    }\n",
       "\n",
       "    .dataframe thead th {\n",
       "        text-align: right;\n",
       "    }\n",
       "</style>\n",
       "<table border=\"1\" class=\"dataframe\">\n",
       "  <thead>\n",
       "    <tr style=\"text-align: right;\">\n",
       "      <th></th>\n",
       "      <th>date</th>\n",
       "      <th>source</th>\n",
       "      <th>site</th>\n",
       "      <th>channel</th>\n",
       "      <th>media</th>\n",
       "      <th>visit</th>\n",
       "    </tr>\n",
       "  </thead>\n",
       "  <tbody>\n",
       "    <tr>\n",
       "      <th>0</th>\n",
       "      <td>2017/5/15</td>\n",
       "      <td>品牌营销_品牌词</td>\n",
       "      <td>品牌词产品</td>\n",
       "      <td>播放器播放标签</td>\n",
       "      <td>PC</td>\n",
       "      <td>17600</td>\n",
       "    </tr>\n",
       "    <tr>\n",
       "      <th>1</th>\n",
       "      <td>2017/5/15</td>\n",
       "      <td>手机_品牌营销_品牌词</td>\n",
       "      <td>品牌词广告</td>\n",
       "      <td>15秒前贴片_app</td>\n",
       "      <td>app</td>\n",
       "      <td>15865</td>\n",
       "    </tr>\n",
       "    <tr>\n",
       "      <th>2</th>\n",
       "      <td>2017/5/15</td>\n",
       "      <td>SEO</td>\n",
       "      <td>百度</td>\n",
       "      <td>WAP</td>\n",
       "      <td>-</td>\n",
       "      <td>10858</td>\n",
       "    </tr>\n",
       "    <tr>\n",
       "      <th>3</th>\n",
       "      <td>2017/5/15</td>\n",
       "      <td>手机_品牌营销_品牌词</td>\n",
       "      <td>品牌词运营</td>\n",
       "      <td>移动端_乐见</td>\n",
       "      <td>app</td>\n",
       "      <td>9768</td>\n",
       "    </tr>\n",
       "    <tr>\n",
       "      <th>4</th>\n",
       "      <td>2017/5/15</td>\n",
       "      <td>SEO</td>\n",
       "      <td>百度</td>\n",
       "      <td>PC</td>\n",
       "      <td>-</td>\n",
       "      <td>9228</td>\n",
       "    </tr>\n",
       "  </tbody>\n",
       "</table>\n",
       "</div>"
      ],
      "text/plain": [
       "        date       source   site     channel media  visit\n",
       "0  2017/5/15     品牌营销_品牌词  品牌词产品     播放器播放标签    PC  17600\n",
       "1  2017/5/15  手机_品牌营销_品牌词  品牌词广告  15秒前贴片_app   app  15865\n",
       "2  2017/5/15          SEO     百度         WAP     -  10858\n",
       "3  2017/5/15  手机_品牌营销_品牌词  品牌词运营      移动端_乐见   app   9768\n",
       "4  2017/5/15          SEO     百度          PC     -   9228"
      ]
     },
     "execution_count": 24,
     "metadata": {},
     "output_type": "execute_result"
    }
   ],
   "source": [
    "import datetime\n",
    "import pandas as pd\n",
    "import numpy as np\n",
    "from graphviz import Digraph  # 画图用库\n",
    "# 载入数据\n",
    "df = pd.read_csv('https://raw.githubusercontent.com/ffzs/dataset/master/advertising_data.csv')\n",
    "# 显示部分数据\n",
    "df.head()"
   ]
  },
  {
   "cell_type": "code",
   "execution_count": 4,
   "metadata": {},
   "outputs": [
    {
     "data": {
      "text/plain": [
       "date       object\n",
       "source     object\n",
       "site       object\n",
       "channel    object\n",
       "media      object\n",
       "visit      object\n",
       "dtype: object"
      ]
     },
     "execution_count": 4,
     "metadata": {},
     "output_type": "execute_result"
    }
   ],
   "source": [
    "# 数据类型\n",
    "df.dtypes"
   ]
  },
  {
   "cell_type": "code",
   "execution_count": 5,
   "metadata": {
    "scrolled": true
   },
   "outputs": [
    {
     "data": {
      "text/plain": [
       "date       0\n",
       "source     0\n",
       "site       0\n",
       "channel    0\n",
       "media      0\n",
       "visit      0\n",
       "dtype: int64"
      ]
     },
     "execution_count": 5,
     "metadata": {},
     "output_type": "execute_result"
    }
   ],
   "source": [
    "# 查看缺失值\n",
    "df.isna().sum()"
   ]
  },
  {
   "cell_type": "markdown",
   "metadata": {},
   "source": [
    "根据上述的数据审车校验结果，需要处理的内容包括：\n",
    "+ 将date列转换为日期型，便于后期基于数据做筛选以及日期计算。\n",
    "+ 将visit列中的“-”进行转换。由于从网站分析工具导出时，“-”代表的是没有数据，因此这里转换为0。"
   ]
  },
  {
   "cell_type": "code",
   "execution_count": 6,
   "metadata": {},
   "outputs": [],
   "source": [
    "# date列数据转化为日期型数据\n",
    "df['date'] = df.date.astype('datetime64[ns]')\n",
    "# 将visit列中的“-”转换为0\n",
    "df['visit'] = df.visit.replace('-', 0).astype('int64')"
   ]
  },
  {
   "cell_type": "markdown",
   "metadata": {},
   "source": [
    "这里先将每天的数据与其前1天的数据做环比变化统计。"
   ]
  },
  {
   "cell_type": "code",
   "execution_count": 8,
   "metadata": {},
   "outputs": [
    {
     "data": {
      "text/html": [
       "<div>\n",
       "<style scoped>\n",
       "    .dataframe tbody tr th:only-of-type {\n",
       "        vertical-align: middle;\n",
       "    }\n",
       "\n",
       "    .dataframe tbody tr th {\n",
       "        vertical-align: top;\n",
       "    }\n",
       "\n",
       "    .dataframe thead th {\n",
       "        text-align: right;\n",
       "    }\n",
       "</style>\n",
       "<table border=\"1\" class=\"dataframe\">\n",
       "  <thead>\n",
       "    <tr style=\"text-align: right;\">\n",
       "      <th></th>\n",
       "      <th>visit</th>\n",
       "      <th>change</th>\n",
       "      <th>change_rate</th>\n",
       "    </tr>\n",
       "    <tr>\n",
       "      <th>date</th>\n",
       "      <th></th>\n",
       "      <th></th>\n",
       "      <th></th>\n",
       "    </tr>\n",
       "  </thead>\n",
       "  <tbody>\n",
       "    <tr>\n",
       "      <th>2017-05-15</th>\n",
       "      <td>117260</td>\n",
       "      <td>NaN</td>\n",
       "      <td>NaN</td>\n",
       "    </tr>\n",
       "    <tr>\n",
       "      <th>2017-05-16</th>\n",
       "      <td>166124</td>\n",
       "      <td>48864.0</td>\n",
       "      <td>0.294</td>\n",
       "    </tr>\n",
       "    <tr>\n",
       "      <th>2017-05-17</th>\n",
       "      <td>157727</td>\n",
       "      <td>-8397.0</td>\n",
       "      <td>-0.053</td>\n",
       "    </tr>\n",
       "    <tr>\n",
       "      <th>2017-05-18</th>\n",
       "      <td>155805</td>\n",
       "      <td>-1922.0</td>\n",
       "      <td>-0.012</td>\n",
       "    </tr>\n",
       "    <tr>\n",
       "      <th>2017-05-19</th>\n",
       "      <td>115644</td>\n",
       "      <td>-40161.0</td>\n",
       "      <td>-0.347</td>\n",
       "    </tr>\n",
       "  </tbody>\n",
       "</table>\n",
       "</div>"
      ],
      "text/plain": [
       "             visit   change  change_rate\n",
       "date                                    \n",
       "2017-05-15  117260      NaN          NaN\n",
       "2017-05-16  166124  48864.0        0.294\n",
       "2017-05-17  157727  -8397.0       -0.053\n",
       "2017-05-18  155805  -1922.0       -0.012\n",
       "2017-05-19  115644 -40161.0       -0.347"
      ]
     },
     "execution_count": 8,
     "metadata": {},
     "output_type": "execute_result"
    }
   ],
   "source": [
    "# 获得每天visit的汇总\n",
    "day_summary = df.iloc[:,-1].groupby(df.date).sum()\n",
    "# 通过差分求平移一天后的变化\n",
    "day_change_value = day_summary.diff(1).rename('change')\n",
    "# 求变化率\n",
    "day_change_rate = (day_change_value / day_summary).round(3).rename('change_rate')\n",
    "# 合并\n",
    "df_visit = pd.concat((day_summary, day_change_value, day_change_rate), axis=1) \n",
    "# 展示\n",
    "df_visit.head()"
   ]
  },
  {
   "cell_type": "code",
   "execution_count": 10,
   "metadata": {},
   "outputs": [
    {
     "data": {
      "text/plain": [
       "<matplotlib.axes._subplots.AxesSubplot at 0x23e2c989b00>"
      ]
     },
     "execution_count": 10,
     "metadata": {},
     "output_type": "execute_result"
    },
    {
     "data": {
      "image/png": "[encoded data removed]",
      "text/plain": [
       "<Figure size 432x288 with 1 Axes>"
      ]
     },
     "metadata": {},
     "output_type": "display_data"
    }
   ],
   "source": [
    "# 趋势观察\n",
    "df_visit.visit.plot()"
   ]
  },
  {
   "cell_type": "code",
   "execution_count": 11,
   "metadata": {},
   "outputs": [],
   "source": [
    "# 指定要分析的日期\n",
    "the_day = pd.datetime(2017, 6, 7)\n",
    "# 获取前一天日期\n",
    "previous_day = the_day - datetime.timedelta(1) \n",
    "# 获取指定日期数据\n",
    "the_day_tmp = df[df.date == the_day].rename(columns={'visit': the_day})\n",
    "# 获取前一天数据\n",
    "previous_day_tmp = df[df.date == previous_day].rename(columns={'visit': previous_day})\n",
    "# 指定需要分析4个维度\n",
    "dimension_list = df.columns.tolist()[1:-1]\n",
    "# 每层分裂节点名称列表\n",
    "split_node_list = ['全站']\n",
    "# 每层分裂节点对应的总变化量\n",
    "change_list = []\n",
    "# 每层最大增长贡献最大的1个维度\n",
    "increase_node_list = []\n",
    "# 每层最小增长贡献最大的一个维度\n",
    "decrease_node_list = []"
   ]
  },
  {
   "cell_type": "code",
   "execution_count": 14,
   "metadata": {},
   "outputs": [],
   "source": [
    "# 遍历每一个维度\n",
    "for dimension in dimension_list:\n",
    "    # 获取指定日期的特定维度和访问量\n",
    "    the_day_merge = the_day_tmp[[dimension, the_day]]\n",
    "    # 获取前一天的特定维度和访问量\n",
    "    previous_day_merge = previous_day_tmp[[dimension, previous_day]]\n",
    "\n",
    "    # 对指定日期的特定维度汇总 \n",
    "    the_day_groupby = the_day_merge.groupby(dimension).sum()\n",
    "    # 对前一天的维度汇总\n",
    "    previous_day_groupby = previous_day_merge.groupby(dimension).sum()\n",
    "\n",
    "    # 讲两天的数据合并\n",
    "    merge_data = the_day_groupby.join(previous_day_groupby, how='outer')\n",
    "\n",
    "    # 将缺失值替换为0\n",
    "    merge_data = merge_data.fillna(0)\n",
    "\n",
    "    # 计算环比变化量\n",
    "    merge_data['change'] = merge_data[the_day] - merge_data[previous_day]\n",
    "\n",
    "    # 计算环比变化率\n",
    "    merge_data['change_rate']  =  merge_data['change']  /  merge_data[previous_day]\n",
    "\n",
    "    # 获取分裂节点的总变化值\n",
    "    total_change = merge_data.change.sum()\n",
    "\n",
    "    # 将变化值加入列表\n",
    "    change_list.append(total_change)\n",
    "\n",
    "    # 安环比变化量正向排序\n",
    "    merge_data.sort_values('change', inplace=True)\n",
    "\n",
    "    # 获得增长变化量最大节点名称\n",
    "    max_increase_node = merge_data.index[-1]\n",
    "\n",
    "    # 获得最大值节点变化量以及变化比例\n",
    "    max_value, max_rate = merge_data.loc[max_increase_node][2:4] \n",
    "\n",
    "    # 将最大值信息追加到列表\n",
    "    increase_node_list.append([max_increase_node,  int(max_value),  max_rate])   \n",
    "    # 获得增长变化量最小值节点名称\n",
    "    min_increase_node = merge_data.index[0]  \n",
    "    # 获得最小值节点变化量以及变化比例\n",
    "    min_value, min_rate = merge_data.loc[min_increase_node][2:4]  \n",
    "    # 将最小值信息追加到列表\n",
    "    decrease_node_list.append([min_increase_node,  int(min_value),  min_rate])\n",
    "\n",
    "    # 判断增长方向\n",
    "    if total_change >= 0:\n",
    "        # 将分裂节点定义为增长最大值节点\n",
    "        split_node_list.append(max_increase_node)\n",
    "        # 通过分裂节点的个数判断所处分裂层级\n",
    "        rules_len = len(split_node_list)\n",
    "        # 按照相应的维度过滤出指定日期符合最大节点条件的数据\n",
    "        the_day_tmp = the_day_tmp[the_day_tmp[dimension_list[rules_len-2]] == max_increase_node]\n",
    "        # 按照相应的维度过滤出前一天符合最大节点条件的数据\n",
    "        previous_day_tmp = previous_day_tmp[previous_day_tmp[dimension_list[rules_len-2]] == max_increase_node]    \n",
    "    else:\n",
    "        split_node_list.append(min_increase_node)\n",
    "        # 通过分裂节点的个数判断所处分裂层级\n",
    "        rules_len = len(split_node_list)\n",
    "        # 按照相应的维度过滤出指定日期符合最大节点条件的数据\n",
    "        the_day_tmp = the_day_tmp[the_day_tmp[dimension_list[rules_len-2]] == min_increase_node]\n",
    "        # 按照相应的维度过滤出前一天符合最大节点条件的数据\n",
    "        previous_day_tmp = previous_day_tmp[previous_day_tmp[dimension_list[rules_len-2]] == min_increase_node]"
   ]
  },
  {
   "cell_type": "code",
   "execution_count": 23,
   "metadata": {},
   "outputs": [
    {
     "name": "stderr",
     "output_type": "stream",
     "text": [
      "D:\\Anaconda3\\lib\\site-packages\\ipykernel_launcher.py:18: DeprecationWarning: \n",
      ".ix is deprecated. Please use\n",
      ".loc for label based indexing or\n",
      ".iloc for positional indexing\n",
      "\n",
      "See the documentation here:\n",
      "http://pandas.pydata.org/pandas-docs/stable/indexing.html#ix-indexer-is-deprecated\n",
      "D:\\Anaconda3\\lib\\site-packages\\ipykernel_launcher.py:19: DeprecationWarning: \n",
      ".ix is deprecated. Please use\n",
      ".loc for label based indexing or\n",
      ".iloc for positional indexing\n",
      "\n",
      "See the documentation here:\n",
      "http://pandas.pydata.org/pandas-docs/stable/indexing.html#ix-indexer-is-deprecated\n"
     ]
    },
    {
     "data": {
      "text/plain": [
       "'change summary.png'"
      ]
     },
     "execution_count": 23,
     "metadata": {},
     "output_type": "execute_result"
    }
   ],
   "source": [
    "##### 作图 ####\n",
    "node_style = {'fontname': \"SimSun\", 'shape': 'box'}  # 定义node节点样式\n",
    "edge_style = {'fontname': \"SimHei\", 'fontsize': '11'}  # 定义edge节点样式\n",
    "top_node_style = '<<table><tr><td bgcolor=\"black\"><font color=\"white\">{0}</font></td></tr><tr><td>环比变化量:{1:d}</td></tr><tr><td>环比变化率:{2:.0%}</td></tr></table>>'  # 定义顶部node节点标签样式\n",
    "left_node_style = '<<table><tr><td bgcolor=\"chartreuse\"><font color=\"black\">{0}</font></td></tr><tr><td>环比变化量:{1}</td></tr><tr><td>环比变化率:{2:.0%}</td></tr></table>>'  # 定义左侧node节点标签样式\n",
    "right_node_style = '<<table><tr><td bgcolor=\"lightblue\"><font color=\"black\">{0}</font></td></tr><tr><td>环比变化量:{1}</td></tr><tr><td>环比变化率:{2:.0%}</td></tr></table>>'  # 定义右侧node节点标签样式\n",
    "dot = Digraph(format='png', node_attr=node_style, edge_attr=edge_style)  # 创建有向图\n",
    "\n",
    "\n",
    "for i in range(4):  # 循环读取每一层\n",
    "    node_name = split_node_list[i]  # 获得分裂节点名称\n",
    "    node_left, max_value, max_rate = increase_node_list[i]  # 获得增长最大值名称、变化量和变化率\n",
    "    node_right, min_value, min_rate = decrease_node_list[i]  # 获得增长最小值名称、变化量和变化率\n",
    "    node_change = change_list[i]  # 获得分裂节点的总变化量-非分裂节点变化量\n",
    "    node_label_left = left_node_style.format(node_left, max_value, max_rate)  # 左侧节点显示的信息\n",
    "    node_label_right = right_node_style.format(node_right, min_value, min_rate)  # 右侧节点显示的信息\n",
    "    if i == 0:  # 如果是顶部节点，则单独增加顶部节点信息\n",
    "        day_data = df_visit[df_visit.index == the_day]  # 获得顶部节点的数据\n",
    "        former_data = day_data.ix[0, 1]  # 获得全站总变化量\n",
    "        node_lable = top_node_style.format(node_name, int(former_data), day_data.ix[0, 2])  # 分别获取顶部节点名称、变化量和变化率\n",
    "        dot.node(node_name, label=node_lable)  # 增加顶部节点\n",
    "    contribution_rate_1 = float(max_value) / former_data  # 获得左侧变化量贡献率\n",
    "    contribution_rate_2 = float(min_value) / former_data  # 获得右侧变化量贡献率\n",
    "    if node_change >= 0:  # 如果为增长，则左侧为正向\n",
    "        edge_lablel_left = '正向贡献率:{0:.0%}'.format(contribution_rate_1)  # 左侧边的标签信息\n",
    "        edge_lablel_right = '反向贡献率:{0:.0%}'.format(contribution_rate_2)  # 右侧边的标签信息\n",
    "        former_data = max_value  # 获得上一层级变化量最大值\n",
    "    else:  # 如果为下降，则右侧为正向\n",
    "        edge_lablel_left = '反向贡献率:{0:.0%}'.format(contribution_rate_1)  # 左侧边的标签信息\n",
    "        edge_lablel_right = '正向贡献率:{0:.0%}'.format(contribution_rate_2)  # 右侧边的标签信息\n",
    "        former_data = min_value  # 获得上一层级变化量最大值\n",
    "    dot.node(node_left, label=node_label_left)  # 增加左侧节点\n",
    "    dot.node(node_right, label=node_label_right)  # 增加右侧节点\n",
    "    dot.edge(node_name, node_left, label=edge_lablel_left, color='chartreuse')  # 增加左侧边\n",
    "    dot.edge(node_name, node_right, label=edge_lablel_right, color='lightblue')  # 增加右侧边\n",
    "\n",
    "dot.view('change summary')  # 展示图形结果\n",
    "\n"
   ]
  },
  {
   "cell_type": "markdown",
   "metadata": {},
   "source": [
    "## 结论\n",
    "全站访问量下降18455，下降比例达到23%，主要的source源是CRM，其下降量为17591, “贡献”了95%的主要因素；而导致CRM下降的主要site源是准会员，其下降量为17575, “贡献了”几乎100%的下降因素；再进一步细分，在影响准会员的channel中，电视源的下降量达到19090, “贡献”了109%的比例，而导致电视流量下降的主要media源是APP，其贡献了19024的下降流量，比例几乎是100%。与此同时，某些来源渠道的流量与全站的下降趋势相反，呈现良好的增长趋势，这在全站的下降主要因子中表现良好，包括source源中的公众号流量环比增长2444，增长率达到171%; s准会员中的商城部分的流量增长1378，增长率为29%。\n",
    "\n",
    "在上述结论中，针对每个节点（含分裂节点和非分裂节点）我们都有两个方向的参照：\n",
    "+ 横向因子，即查询哪些特征对于上一层级的变化有主要的正向和负向贡献，这是贡献率的来源；\n",
    "+ 纵向因子，即查询每个节点本身相对前1天的环比变化率，这是其本身随着时间的变化特征，能有效了解其自身波动水平。"
   ]
  },
  {
   "cell_type": "markdown",
   "metadata": {},
   "source": [
    "## 补充\n",
    "\n",
    "案例使用的graphviz是一个非常强大的用于展示复杂关系库。该库还有很多我们可以应用到的复杂场景，例如：\n",
    "\n",
    "+ 基于网络转发的传播关系图；\n",
    "+ 个人关系联络图；\n",
    "+ 基于有时间序列的流程图；\n",
    "+ 网络拓扑关系图；\n",
    "+ 信息流和事件流图。\n",
    "\n",
    "案例中分裂寻找的是变化量（也意味着变化率）最大的节点，如果有课题需要也可以将变化率或贡献度指定出来，在计算的时候按照指定的贡献率提取出一系列（而不是一个）因子。或者，可以依据业务手工分析的需求，沿着指定维度做层层下探，其实只是在维度循环时从预设维度变为根据系统选择传值而已。整个的实现思路，已经跟决策树的实现思想比较接近了，如果读者兴趣可以参照决策树的实现和优化思路。"
   ]
  },
  {
   "cell_type": "code",
   "execution_count": null,
   "metadata": {},
   "outputs": [],
   "source": []
  }
 ],
 "metadata": {
  "kernelspec": {
   "display_name": "Python 3",
   "language": "python",
   "name": "python3"
  },
  "language_info": {
   "codemirror_mode": {
    "name": "ipython",
    "version": 3
   },
   "file_extension": ".py",
   "mimetype": "text/x-python",
   "name": "python",
   "nbconvert_exporter": "python",
   "pygments_lexer": "ipython3",
   "version": "3.6.5"
  },
  "toc": {
   "base_numbering": 1,
   "nav_menu": {},
   "number_sections": true,
   "sideBar": true,
   "skip_h1_title": false,
   "title_cell": "Table of Contents",
   "title_sidebar": "Contents",
   "toc_cell": false,
   "toc_position": {},
   "toc_section_display": true,
   "toc_window_display": false
  }
 },
 "nbformat": 4,
 "nbformat_minor": 2
}
